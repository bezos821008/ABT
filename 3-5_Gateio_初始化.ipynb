{
 "cells": [
  {
   "cell_type": "code",
   "execution_count": 1,
   "id": "fb79e71b",
   "metadata": {
    "scrolled": true
   },
   "outputs": [],
   "source": [
    "# coding: utf-8\n",
    "import requests\n",
    "import os\n",
    "import csv\n",
    "\n",
    "host = \"https://api.gateio.ws\"\n",
    "prefix = \"/api/v4\"\n",
    "headers = {'Accept': 'application/json', 'Content-Type': 'application/json'}\n",
    "\n",
    "url = '/futures/usdt/contracts'\n",
    "query_param = ''\n",
    "r = requests.request('GET', host + prefix + url, headers=headers)\n",
    "Response = r.json()\n",
    "Keys_List = ['Symbol','Pair','Base','Quote','Type']"
   ]
  },
  {
   "cell_type": "code",
   "execution_count": 2,
   "id": "66e808ee",
   "metadata": {},
   "outputs": [],
   "source": [
    "USD_USDT_Symbol_List  = []\n",
    "for i in range(len(Response)):\n",
    "    Currency_Dict = Response[i]['name'].split('_')\n",
    "    if Currency_Dict[1] == 'USDT' or Currency_Dict[1]=='USD':\n",
    "        Symbol_List = []\n",
    "        Symbol_List.append(Currency_Dict[0]+Currency_Dict[1])\n",
    "        Symbol_List.append(Currency_Dict[0]+Currency_Dict[1])\n",
    "        Symbol_List.append(Currency_Dict[0])\n",
    "        Symbol_List.append(Currency_Dict[1])\n",
    "        Symbol_List.append(Currency_Dict[1]+'-PERP')\n",
    "        USD_USDT_Symbol_List.append(dict(zip(Keys_List, Symbol_List)))"
   ]
  },
  {
   "cell_type": "code",
   "execution_count": 3,
   "id": "817e33b8",
   "metadata": {},
   "outputs": [],
   "source": [
    "def Csv_Function(exchange_name,currency_list):\n",
    "    for i in range(len(currency_list)):\n",
    "        \n",
    "        Store_Path = os.getcwd() + '\\Csv_Bin\\\\' + currency_list[i]['Type']\n",
    "\n",
    "        if os.path.exists(Store_Path) == True:\n",
    "\n",
    "            File_Path = Store_Path + '\\\\' + currency_list[i]['Symbol'] + \"-\" + currency_list[i]['Type']\n",
    "\n",
    "            write_value = {exchange_name:currency_list[i]}\n",
    "\n",
    "            if os.path.exists(File_Path) == False:\n",
    "                with open(File_Path, 'a', newline='') as csv_write:\n",
    "                    writer = csv.writer(csv_write)\n",
    "                    for k, v in write_value.items():\n",
    "                        writer.writerow([k, v])\n",
    "            \n",
    "            if os.path.exists(File_Path) == True:\n",
    "                with open(File_Path, 'r', newline='') as csv_read:\n",
    "                    rows = dict(csv.reader(csv_read))\n",
    "\n",
    "                if exchange_name not in list(rows):\n",
    "                    with open(File_Path, 'a', newline='') as csv_write:\n",
    "                            writer = csv.writer(csv_write)\n",
    "                            for k, v in write_value.items():\n",
    "                                writer.writerow([k, v])"
   ]
  },
  {
   "cell_type": "code",
   "execution_count": 5,
   "id": "e7c967c7",
   "metadata": {},
   "outputs": [],
   "source": [
    "Csv_Function('gateio',USD_USDT_Symbol_List)"
   ]
  },
  {
   "cell_type": "code",
   "execution_count": null,
   "id": "ea9e1e02",
   "metadata": {},
   "outputs": [],
   "source": []
  }
 ],
 "metadata": {
  "kernelspec": {
   "display_name": "Python 3 (ipykernel)",
   "language": "python",
   "name": "python3"
  },
  "language_info": {
   "codemirror_mode": {
    "name": "ipython",
    "version": 3
   },
   "file_extension": ".py",
   "mimetype": "text/x-python",
   "name": "python",
   "nbconvert_exporter": "python",
   "pygments_lexer": "ipython3",
   "version": "3.9.7"
  }
 },
 "nbformat": 4,
 "nbformat_minor": 5
}
