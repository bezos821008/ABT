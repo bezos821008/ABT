{
 "cells": [
  {
   "cell_type": "code",
   "execution_count": 1,
   "id": "fb79e71b",
   "metadata": {
    "scrolled": true
   },
   "outputs": [],
   "source": [
    "# coding: utf-8\n",
    "import requests\n",
    "import os\n",
    "import csv\n",
    "\n",
    "host = \"https://api.gateio.ws\"\n",
    "prefix = \"/api/v4\"\n",
    "headers = {'Accept': 'application/json', 'Content-Type': 'application/json'}\n",
    "\n",
    "url = '/futures/usdt/contracts'\n",
    "query_param = ''\n",
    "r = requests.request('GET', host + prefix + url, headers=headers)\n",
    "Response = r.json()\n",
    "Keys_List = ['Symbol','Pair','Base','Quote','Type']"
   ]
  },
  {
   "cell_type": "code",
   "execution_count": null,
   "id": "5cd266c3",
   "metadata": {},
   "outputs": [],
   "source": []
  },
  {
   "cell_type": "code",
   "execution_count": 2,
   "id": "0b914b9b",
   "metadata": {},
   "outputs": [],
   "source": [
    "#\n",
    "#            ['1INCHUSD', '1INCH/USD:USD', '1INCH', 'USD', 'USD-PERP']"
   ]
  },
  {
   "cell_type": "code",
   "execution_count": null,
   "id": "f24c88f0",
   "metadata": {},
   "outputs": [],
   "source": []
  },
  {
   "cell_type": "code",
   "execution_count": 3,
   "id": "66e808ee",
   "metadata": {},
   "outputs": [],
   "source": [
    "USD_USDT_Symbol_List  = []\n",
    "for i in range(len(Response)):\n",
    "    Currency_Dict = Response[i]['name'].split('_')\n",
    "    if Currency_Dict[1] == 'USDT' or Currency_Dict[1]=='USD':\n",
    "        Symbol_List = []\n",
    "        Symbol_List.append(Currency_Dict[0]+Currency_Dict[1])\n",
    "        Symbol_List.append(Currency_Dict[0]+Currency_Dict[1])\n",
    "        Symbol_List.append(Currency_Dict[0])\n",
    "        Symbol_List.append(Currency_Dict[1])\n",
    "        Symbol_List.append(Currency_Dict[1]+'-PERP')\n",
    "        USD_USDT_Symbol_List.append(Symbol_List)"
   ]
  },
  {
   "cell_type": "code",
   "execution_count": null,
   "id": "be5c5088",
   "metadata": {},
   "outputs": [],
   "source": []
  },
  {
   "cell_type": "code",
   "execution_count": 4,
   "id": "7e213ce1",
   "metadata": {},
   "outputs": [],
   "source": [
    "def Data_To_List(Currency_List,Keys_Values_List):\n",
    "    Full_List = []\n",
    "    for i in range(len(Currency_List)):\n",
    "        Def_Symbol_List = []\n",
    "        for x in range(len(Keys_Values_List)):\n",
    "            Def_Symbol_List.append( [Keys_Values_List[x],Currency_List[i][x]] )\n",
    "        Full_List.append(Def_Symbol_List)\n",
    "    return(Full_List)"
   ]
  },
  {
   "cell_type": "code",
   "execution_count": 5,
   "id": "ea3a1869",
   "metadata": {},
   "outputs": [],
   "source": [
    "USD_USDT_Data_List  = Data_To_List(USD_USDT_Symbol_List,Keys_List)"
   ]
  },
  {
   "cell_type": "code",
   "execution_count": 6,
   "id": "817e33b8",
   "metadata": {},
   "outputs": [],
   "source": [
    "def Csv_Function(exchange_name,currency_list):\n",
    "    for i in range(len(currency_list)):\n",
    "        \n",
    "        Store_Path = os.getcwd() + '\\\\' + currency_list[i][4][1]\n",
    "        if os.path.exists(Store_Path) == True:\n",
    "            \n",
    "            File_Path = Store_Path + '\\\\' + currency_list[i][0][1] + \"-\" + currency_list[i][4][1]\n",
    "            \n",
    "            write_value = exchange_name + '/' + str(currency_list[i])\n",
    "            \n",
    "            if os.path.exists(File_Path) == False:\n",
    "                with open(File_Path, 'a', newline='') as csv_write:\n",
    "                    writer = csv.writer(csv_write, delimiter=',')\n",
    "                    writer.writerow([write_value])\n",
    "                    #print(write_value)\n",
    "                    \n",
    "            \n",
    "            if os.path.exists(File_Path) == True:\n",
    "                with open(File_Path, 'r', newline='') as csv_read:\n",
    "                    rows = list(csv.reader(csv_read))\n",
    "                    if [write_value] not in rows:\n",
    "                        with open(File_Path, 'a', newline='') as csv_write:\n",
    "                                writer = csv.writer(csv_write, delimiter=',')\n",
    "                                writer.writerow([write_value])\n",
    "                                #print(write_value)\n",
    "                                #print(rows)"
   ]
  },
  {
   "cell_type": "code",
   "execution_count": 7,
   "id": "e7c967c7",
   "metadata": {},
   "outputs": [],
   "source": [
    "Csv_Function('gateio',USD_USDT_Data_List)"
   ]
  },
  {
   "cell_type": "code",
   "execution_count": null,
   "id": "ea9e1e02",
   "metadata": {},
   "outputs": [],
   "source": []
  },
  {
   "cell_type": "code",
   "execution_count": null,
   "id": "a754c930",
   "metadata": {},
   "outputs": [],
   "source": []
  },
  {
   "cell_type": "code",
   "execution_count": null,
   "id": "e33c4962",
   "metadata": {},
   "outputs": [],
   "source": []
  },
  {
   "cell_type": "code",
   "execution_count": null,
   "id": "b29c09ea",
   "metadata": {
    "scrolled": false
   },
   "outputs": [],
   "source": []
  },
  {
   "cell_type": "code",
   "execution_count": null,
   "id": "f8158c27",
   "metadata": {},
   "outputs": [],
   "source": []
  },
  {
   "cell_type": "code",
   "execution_count": null,
   "id": "edd65bd5",
   "metadata": {},
   "outputs": [],
   "source": []
  },
  {
   "cell_type": "code",
   "execution_count": null,
   "id": "50177cfc",
   "metadata": {},
   "outputs": [],
   "source": []
  },
  {
   "cell_type": "code",
   "execution_count": null,
   "id": "13a0b379",
   "metadata": {},
   "outputs": [],
   "source": []
  }
 ],
 "metadata": {
  "kernelspec": {
   "display_name": "Python 3 (ipykernel)",
   "language": "python",
   "name": "python3"
  },
  "language_info": {
   "codemirror_mode": {
    "name": "ipython",
    "version": 3
   },
   "file_extension": ".py",
   "mimetype": "text/x-python",
   "name": "python",
   "nbconvert_exporter": "python",
   "pygments_lexer": "ipython3",
   "version": "3.9.7"
  }
 },
 "nbformat": 4,
 "nbformat_minor": 5
}
