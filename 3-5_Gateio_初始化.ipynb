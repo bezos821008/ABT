{
 "cells": [
  {
   "cell_type": "code",
   "execution_count": 1,
   "id": "fb79e71b",
   "metadata": {
    "scrolled": true
   },
   "outputs": [],
   "source": [
    "# coding: utf-8\n",
    "import requests\n",
    "import os\n",
    "import csv\n",
    "\n",
    "host = \"https://api.gateio.ws\"\n",
    "prefix = \"/api/v4\"\n",
    "headers = {'Accept': 'application/json', 'Content-Type': 'application/json'}\n",
    "\n",
    "url = '/futures/usdt/contracts'\n",
    "query_param = ''\n",
    "r = requests.request('GET', host + prefix + url, headers=headers)\n",
    "Response = r.json()\n",
    "Keys_List = ['Symbol','Pair','Base','Quote','Type']"
   ]
  },
  {
   "cell_type": "code",
   "execution_count": 2,
   "id": "66e808ee",
   "metadata": {},
   "outputs": [],
   "source": [
    "USD_USDT_Symbol_List  = []\n",
    "for i in range(len(Response)):\n",
    "    Currency_Dict = Response[i]['name'].split('_')\n",
    "    if Currency_Dict[1] == 'USDT' or Currency_Dict[1]=='USD':\n",
    "        Symbol_List = []\n",
    "        Symbol_List.append(Currency_Dict[0]+Currency_Dict[1])\n",
    "        Symbol_List.append(Currency_Dict[0]+Currency_Dict[1])\n",
    "        Symbol_List.append(Currency_Dict[0])\n",
    "        Symbol_List.append(Currency_Dict[1])\n",
    "        Symbol_List.append(Currency_Dict[1]+'-PERP')\n",
    "        Csv_Write = \"\"\n",
    "        for x in Symbol_List:\n",
    "            Csv_Write = Csv_Write+(x+'___')\n",
    "        Csv_Write = Csv_Write[:-3]\n",
    "        Symbol_List.append(Csv_Write)\n",
    "        USD_USDT_Symbol_List.append(Symbol_List)"
   ]
  },
  {
   "cell_type": "code",
   "execution_count": null,
   "id": "80efa907",
   "metadata": {},
   "outputs": [],
   "source": []
  },
  {
   "cell_type": "code",
   "execution_count": null,
   "id": "16f4dbae",
   "metadata": {},
   "outputs": [],
   "source": []
  },
  {
   "cell_type": "code",
   "execution_count": null,
   "id": "70a774dd",
   "metadata": {},
   "outputs": [],
   "source": []
  },
  {
   "cell_type": "code",
   "execution_count": 3,
   "id": "817e33b8",
   "metadata": {},
   "outputs": [],
   "source": [
    "def Csv_Function(exchange_name,currency_list):\n",
    "    for i in range(len(currency_list)):\n",
    "        \n",
    "        Store_Path = os.getcwd() + '\\Csv_Bin\\\\' + currency_list[i][4]\n",
    "\n",
    "        if os.path.exists(Store_Path) == True:\n",
    "            \n",
    "            File_Path = Store_Path + '\\\\' + currency_list[i][0] + \"-\" + currency_list[i][4]\n",
    "            \n",
    "            Write_Data = [exchange_name+'_'+currency_list[i][1]+'___'+exchange_name+'___'+currency_list[i][5]]\n",
    "\n",
    "            if os.path.exists(File_Path) == False:\n",
    "                with open(File_Path, 'a', newline='') as csv_write:\n",
    "                    writer = csv.writer(csv_write)\n",
    "                    writer.writerow(Write_Data)\n",
    "            \n",
    "            if os.path.exists(File_Path) == True:\n",
    "                with open(File_Path, 'r', newline='') as csv_read:\n",
    "                    rows = list(csv.reader(csv_read))\n",
    "                    #print(rows[0])\n",
    "                    \n",
    "                if Write_Data not in rows:\n",
    "                    with open(File_Path, 'a', newline='') as csv_write:\n",
    "                        writer = csv.writer(csv_write)\n",
    "                        writer.writerow(Write_Data)"
   ]
  },
  {
   "cell_type": "code",
   "execution_count": 4,
   "id": "e7c967c7",
   "metadata": {},
   "outputs": [],
   "source": [
    "Csv_Function('gateio',USD_USDT_Symbol_List)"
   ]
  },
  {
   "cell_type": "code",
   "execution_count": null,
   "id": "ea9e1e02",
   "metadata": {},
   "outputs": [],
   "source": []
  }
 ],
 "metadata": {
  "kernelspec": {
   "display_name": "Python 3 (ipykernel)",
   "language": "python",
   "name": "python3"
  },
  "language_info": {
   "codemirror_mode": {
    "name": "ipython",
    "version": 3
   },
   "file_extension": ".py",
   "mimetype": "text/x-python",
   "name": "python",
   "nbconvert_exporter": "python",
   "pygments_lexer": "ipython3",
   "version": "3.9.7"
  }
 },
 "nbformat": 4,
 "nbformat_minor": 5
}
