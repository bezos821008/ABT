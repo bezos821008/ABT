{
 "cells": [
  {
   "cell_type": "code",
   "execution_count": 1,
   "id": "e8e6a666",
   "metadata": {},
   "outputs": [],
   "source": [
    "import os\n",
    "import csv"
   ]
  },
  {
   "cell_type": "code",
   "execution_count": 2,
   "id": "b328f7d0",
   "metadata": {},
   "outputs": [],
   "source": [
    "OS_Path   = os.getcwd()\n",
    "\n",
    "USD_Path  = OS_Path + r'\\USD-PERP'\n",
    "USDT_Path = OS_Path + r'\\USDT-PERP'\n",
    "\n",
    "USD_List  = os.listdir( USD_Path  )\n",
    "USDT_List = os.listdir( USDT_Path )"
   ]
  },
  {
   "cell_type": "code",
   "execution_count": null,
   "id": "926768c5",
   "metadata": {},
   "outputs": [],
   "source": []
  },
  {
   "cell_type": "code",
   "execution_count": null,
   "id": "bb4af911",
   "metadata": {},
   "outputs": [],
   "source": []
  },
  {
   "cell_type": "code",
   "execution_count": 3,
   "id": "956285cd",
   "metadata": {},
   "outputs": [],
   "source": [
    "def Csv_Delete(Currency_List,Dir_Path):\n",
    "    for i in Currency_List:\n",
    "        csv_path = Dir_Path + '\\\\' + i\n",
    "        if os.path.exists(csv_path)==True:\n",
    "            with open(csv_path, 'r', newline='') as csv_read:\n",
    "                rows = list(csv.reader(csv_read))\n",
    "\n",
    "            if len(rows) <= 1:\n",
    "                os.remove(csv_path)\n",
    "#                 print(rows)\n",
    "#                 print(len(rows))\n",
    "#                 print(csv_path)\n",
    "#                 print('')"
   ]
  },
  {
   "cell_type": "code",
   "execution_count": 4,
   "id": "2b11a7a7",
   "metadata": {},
   "outputs": [],
   "source": [
    "Csv_Delete(USD_List,USD_Path)"
   ]
  },
  {
   "cell_type": "code",
   "execution_count": 5,
   "id": "92ee60d0",
   "metadata": {},
   "outputs": [],
   "source": [
    "Csv_Delete(USDT_List,USDT_Path)"
   ]
  },
  {
   "cell_type": "code",
   "execution_count": null,
   "id": "a3895b9e",
   "metadata": {},
   "outputs": [],
   "source": []
  },
  {
   "cell_type": "code",
   "execution_count": null,
   "id": "900e77b1",
   "metadata": {},
   "outputs": [],
   "source": []
  },
  {
   "cell_type": "code",
   "execution_count": null,
   "id": "73ac20ce",
   "metadata": {},
   "outputs": [],
   "source": []
  },
  {
   "cell_type": "code",
   "execution_count": null,
   "id": "0d60bfb7",
   "metadata": {},
   "outputs": [],
   "source": []
  },
  {
   "cell_type": "code",
   "execution_count": null,
   "id": "9161cf78",
   "metadata": {},
   "outputs": [],
   "source": []
  }
 ],
 "metadata": {
  "kernelspec": {
   "display_name": "Python 3 (ipykernel)",
   "language": "python",
   "name": "python3"
  },
  "language_info": {
   "codemirror_mode": {
    "name": "ipython",
    "version": 3
   },
   "file_extension": ".py",
   "mimetype": "text/x-python",
   "name": "python",
   "nbconvert_exporter": "python",
   "pygments_lexer": "ipython3",
   "version": "3.9.7"
  }
 },
 "nbformat": 4,
 "nbformat_minor": 5
}
