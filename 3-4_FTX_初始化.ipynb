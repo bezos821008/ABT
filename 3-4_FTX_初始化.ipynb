{
 "cells": [
  {
   "cell_type": "code",
   "execution_count": 1,
   "id": "703481c1",
   "metadata": {},
   "outputs": [],
   "source": [
    "import ccxt\n",
    "import os\n",
    "import csv"
   ]
  },
  {
   "cell_type": "code",
   "execution_count": 2,
   "id": "dd68dbb4",
   "metadata": {},
   "outputs": [],
   "source": [
    "exchange = ccxt.ftx({\n",
    "    'enableRateLimit': True,\n",
    "})\n",
    "Response = exchange.load_markets()\n",
    "Keys_List = ['Symbol','Pair','Base','Quote','Type']"
   ]
  },
  {
   "cell_type": "code",
   "execution_count": 3,
   "id": "c1016235",
   "metadata": {},
   "outputs": [],
   "source": [
    "USD_USDT_Symbol_List  = []\n",
    "for i in Response:\n",
    "    Currency_Dict = Response[i]\n",
    "    if Currency_Dict['swap']==True:\n",
    "        if Currency_Dict['quote'] == 'USDT' or Currency_Dict['quote']=='USD':\n",
    "            Symbol_List = []\n",
    "            Symbol_List.append(Currency_Dict['base']+Currency_Dict['quote'])\n",
    "            Symbol_List.append(Currency_Dict['symbol'])\n",
    "            Symbol_List.append(Currency_Dict['base'])\n",
    "            Symbol_List.append(Currency_Dict['quote'])\n",
    "            Symbol_List.append(Currency_Dict['quote']+'-PERP')\n",
    "            Csv_Write = \"\"\n",
    "            for x in Symbol_List:\n",
    "                Csv_Write = Csv_Write+(x+'___')\n",
    "            Csv_Write = Csv_Write[:-3]\n",
    "            Symbol_List.append(Csv_Write)\n",
    "            USD_USDT_Symbol_List.append(Symbol_List)"
   ]
  },
  {
   "cell_type": "code",
   "execution_count": 4,
   "id": "1148836b",
   "metadata": {},
   "outputs": [],
   "source": [
    "def Csv_Function(exchange_name,currency_list):\n",
    "    for i in range(len(currency_list)):\n",
    "        \n",
    "        Store_Path = os.getcwd() + '\\Csv_Bin\\\\' + currency_list[i][4]\n",
    "\n",
    "        if os.path.exists(Store_Path) == True:\n",
    "            \n",
    "            File_Path = Store_Path + '\\\\' + currency_list[i][0] + \"-\" + currency_list[i][4]\n",
    "            \n",
    "            Write_Data = [exchange_name+'_'+currency_list[i][1]+'___'+exchange_name+'___'+currency_list[i][5]]\n",
    "\n",
    "            if os.path.exists(File_Path) == False:\n",
    "                with open(File_Path, 'a', newline='') as csv_write:\n",
    "                    writer = csv.writer(csv_write)\n",
    "                    writer.writerow(Write_Data)\n",
    "            \n",
    "            if os.path.exists(File_Path) == True:\n",
    "                with open(File_Path, 'r', newline='') as csv_read:\n",
    "                    rows = list(csv.reader(csv_read))\n",
    "                    #print(rows[0])\n",
    "                    \n",
    "                if Write_Data not in rows:\n",
    "                    with open(File_Path, 'a', newline='') as csv_write:\n",
    "                        writer = csv.writer(csv_write)\n",
    "                        writer.writerow(Write_Data)"
   ]
  },
  {
   "cell_type": "code",
   "execution_count": 5,
   "id": "22746c75",
   "metadata": {},
   "outputs": [],
   "source": [
    "Csv_Function('ftx',USD_USDT_Symbol_List)"
   ]
  },
  {
   "cell_type": "code",
   "execution_count": null,
   "id": "fb2fbca4",
   "metadata": {},
   "outputs": [],
   "source": []
  },
  {
   "cell_type": "code",
   "execution_count": null,
   "id": "c777ca3e",
   "metadata": {},
   "outputs": [],
   "source": []
  }
 ],
 "metadata": {
  "kernelspec": {
   "display_name": "Python 3 (ipykernel)",
   "language": "python",
   "name": "python3"
  },
  "language_info": {
   "codemirror_mode": {
    "name": "ipython",
    "version": 3
   },
   "file_extension": ".py",
   "mimetype": "text/x-python",
   "name": "python",
   "nbconvert_exporter": "python",
   "pygments_lexer": "ipython3",
   "version": "3.9.7"
  }
 },
 "nbformat": 4,
 "nbformat_minor": 5
}
