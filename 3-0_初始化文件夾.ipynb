{
 "cells": [
  {
   "cell_type": "code",
   "execution_count": 2,
   "id": "6e7557e0",
   "metadata": {},
   "outputs": [],
   "source": [
    "import os"
   ]
  },
  {
   "cell_type": "code",
   "execution_count": null,
   "id": "3de7fc27",
   "metadata": {},
   "outputs": [],
   "source": []
  },
  {
   "cell_type": "code",
   "execution_count": 7,
   "id": "e01ac915",
   "metadata": {},
   "outputs": [],
   "source": [
    "def Create_Bin_Dirs(Bin_Name):\n",
    "    filepath = os.getcwd() + r'\\\\' + Bin_Name\n",
    "    print(filepath)\n",
    "    if os.path.exists(filepath) == False:\n",
    "        os.makedirs(filepath)\n",
    "        "
   ]
  },
  {
   "cell_type": "code",
   "execution_count": 14,
   "id": "da0983cf",
   "metadata": {},
   "outputs": [],
   "source": [
    "def Create_File_Dirs(Bin_Name,Dirs_Name):\n",
    "    bin_path  = os.getcwd() + r'\\\\' + '{}'.format(Bin_Name)\n",
    "    file_path = os.getcwd() + '\\{}\\\\'.format(Bin_Name) + Dirs_Name\n",
    "    #print(file_path)\n",
    "    if os.path.exists(bin_path) == True:\n",
    "        if os.path.exists(file_path) == False:\n",
    "            os.makedirs(file_path)\n",
    "            print(file_path)"
   ]
  },
  {
   "cell_type": "code",
   "execution_count": 22,
   "id": "d87f7a12",
   "metadata": {},
   "outputs": [
    {
     "name": "stdout",
     "output_type": "stream",
     "text": [
      "C:\\Users\\Chiang\\Virtual_Coin\\\\Csv_Bin\n",
      "C:\\Users\\Chiang\\Virtual_Coin\\\\SQL_Bin\n"
     ]
    }
   ],
   "source": [
    "Create_Bin_Dirs('Csv_Bin')\n",
    "Create_Bin_Dirs('SQL_Bin')"
   ]
  },
  {
   "cell_type": "code",
   "execution_count": 23,
   "id": "20cba56c",
   "metadata": {},
   "outputs": [
    {
     "name": "stdout",
     "output_type": "stream",
     "text": [
      "C:\\Users\\Chiang\\Virtual_Coin\\SQL_Bin\\SQL_Table\n"
     ]
    }
   ],
   "source": [
    "Create_File_Dirs('Csv_Bin','USD-PERP')\n",
    "Create_File_Dirs('Csv_Bin','USDT-PERP')\n",
    "Create_File_Dirs('SQL_Bin','SQL_Table')"
   ]
  },
  {
   "cell_type": "code",
   "execution_count": null,
   "id": "ccd6d990",
   "metadata": {},
   "outputs": [],
   "source": []
  },
  {
   "cell_type": "code",
   "execution_count": null,
   "id": "3d1b5dba",
   "metadata": {},
   "outputs": [],
   "source": []
  }
 ],
 "metadata": {
  "kernelspec": {
   "display_name": "Python 3 (ipykernel)",
   "language": "python",
   "name": "python3"
  },
  "language_info": {
   "codemirror_mode": {
    "name": "ipython",
    "version": 3
   },
   "file_extension": ".py",
   "mimetype": "text/x-python",
   "name": "python",
   "nbconvert_exporter": "python",
   "pygments_lexer": "ipython3",
   "version": "3.9.7"
  }
 },
 "nbformat": 4,
 "nbformat_minor": 5
}
