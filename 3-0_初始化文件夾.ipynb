{
 "cells": [
  {
   "cell_type": "code",
   "execution_count": 3,
   "id": "6e7557e0",
   "metadata": {},
   "outputs": [],
   "source": [
    "import os"
   ]
  },
  {
   "cell_type": "code",
   "execution_count": 5,
   "id": "da0983cf",
   "metadata": {},
   "outputs": [],
   "source": [
    "def Create_Dirs(dirs_name):\n",
    "    filepath = os.getcwd() + r'\\\\' + dirs_name\n",
    "    \n",
    "    if os.path.exists(filepath) == False:\n",
    "        os.makedirs(dirs_name)\n",
    "        print(filepath)"
   ]
  },
  {
   "cell_type": "code",
   "execution_count": 7,
   "id": "3de7fc27",
   "metadata": {},
   "outputs": [
    {
     "name": "stdout",
     "output_type": "stream",
     "text": [
      "C:\\Users\\Chiang\\Virtual_Coin\\\\USD-PERP\n"
     ]
    }
   ],
   "source": [
    "Create_Dirs('USD-PERP')\n",
    "Create_Dirs('USDT-PERP')"
   ]
  },
  {
   "cell_type": "code",
   "execution_count": null,
   "id": "e01ac915",
   "metadata": {},
   "outputs": [],
   "source": []
  }
 ],
 "metadata": {
  "kernelspec": {
   "display_name": "Python 3 (ipykernel)",
   "language": "python",
   "name": "python3"
  },
  "language_info": {
   "codemirror_mode": {
    "name": "ipython",
    "version": 3
   },
   "file_extension": ".py",
   "mimetype": "text/x-python",
   "name": "python",
   "nbconvert_exporter": "python",
   "pygments_lexer": "ipython3",
   "version": "3.9.7"
  }
 },
 "nbformat": 4,
 "nbformat_minor": 5
}
