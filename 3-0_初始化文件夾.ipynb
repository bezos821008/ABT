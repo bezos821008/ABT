{
 "cells": [
  {
   "cell_type": "code",
   "execution_count": 1,
   "id": "6e7557e0",
   "metadata": {},
   "outputs": [],
   "source": [
    "import os"
   ]
  },
  {
   "cell_type": "code",
   "execution_count": null,
   "id": "3de7fc27",
   "metadata": {},
   "outputs": [],
   "source": []
  },
  {
   "cell_type": "code",
   "execution_count": 69,
   "id": "e01ac915",
   "metadata": {},
   "outputs": [],
   "source": [
    "def Create_Bin_Dirs():\n",
    "    filepath = os.getcwd() + r'\\\\' + 'Csv_Bin'\n",
    "    print(filepath)\n",
    "    if os.path.exists(filepath) == False:\n",
    "        os.makedirs(filepath)\n",
    "        "
   ]
  },
  {
   "cell_type": "code",
   "execution_count": 70,
   "id": "da0983cf",
   "metadata": {},
   "outputs": [],
   "source": [
    "def Create_File_Dirs(dirs_name):\n",
    "    bin_path  = os.getcwd() + r'\\\\' + 'Csv_Bin'\n",
    "    file_path = os.getcwd() + '\\Csv_Bin\\\\' + dirs_name\n",
    "    #print(file_path)\n",
    "    if os.path.exists(bin_path) == True:\n",
    "        if os.path.exists(file_path) == False:\n",
    "            os.makedirs(file_path)\n",
    "            print(file_path)"
   ]
  },
  {
   "cell_type": "code",
   "execution_count": 71,
   "id": "20cba56c",
   "metadata": {},
   "outputs": [],
   "source": [
    "Create_File_Dirs('USD-PERP')\n",
    "Create_File_Dirs('USDT-PERP')"
   ]
  },
  {
   "cell_type": "code",
   "execution_count": 72,
   "id": "ccd6d990",
   "metadata": {},
   "outputs": [
    {
     "name": "stdout",
     "output_type": "stream",
     "text": [
      "C:\\Users\\Chiang\\Virtual_Coin\\\\Csv_Bin\n"
     ]
    }
   ],
   "source": [
    "Create_Bin_Dirs()"
   ]
  },
  {
   "cell_type": "code",
   "execution_count": null,
   "id": "3d1b5dba",
   "metadata": {},
   "outputs": [],
   "source": []
  }
 ],
 "metadata": {
  "kernelspec": {
   "display_name": "Python 3 (ipykernel)",
   "language": "python",
   "name": "python3"
  },
  "language_info": {
   "codemirror_mode": {
    "name": "ipython",
    "version": 3
   },
   "file_extension": ".py",
   "mimetype": "text/x-python",
   "name": "python",
   "nbconvert_exporter": "python",
   "pygments_lexer": "ipython3",
   "version": "3.9.7"
  }
 },
 "nbformat": 4,
 "nbformat_minor": 5
}
