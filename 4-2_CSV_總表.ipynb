{
 "cells": [
  {
   "cell_type": "code",
   "execution_count": 35,
   "id": "685c1b7f",
   "metadata": {},
   "outputs": [],
   "source": [
    "import os\n",
    "import csv"
   ]
  },
  {
   "cell_type": "code",
   "execution_count": 44,
   "id": "cbb3aa16",
   "metadata": {},
   "outputs": [],
   "source": [
    "Csv_Bin_Path  = os.getcwd() + r'\\Csv_Bin'\n",
    "Bin_File_List = os.listdir(Csv_Bin_Path)\n",
    "Csv_File_Path = []\n",
    "\n",
    "for i in range(len(Bin_File_List)):\n",
    "    File_Csv_Path = Csv_Bin_Path + '\\\\' + Bin_File_List[i]\n",
    "    \n",
    "    for x in os.listdir(File_Csv_Path):\n",
    "        Csv_File_Path.append(File_Csv_Path + '\\\\' + x)"
   ]
  },
  {
   "cell_type": "code",
   "execution_count": 45,
   "id": "f3a578ed",
   "metadata": {},
   "outputs": [
    {
     "data": {
      "text/plain": [
       "'C:\\\\Users\\\\Chiang\\\\Virtual_Coin\\\\Csv_Bin\\\\USD-PERP\\\\1INCHUSD-USD-PERP'"
      ]
     },
     "execution_count": 45,
     "metadata": {},
     "output_type": "execute_result"
    }
   ],
   "source": [
    "Csv_File_Path[0]"
   ]
  },
  {
   "cell_type": "code",
   "execution_count": 51,
   "id": "ab645cf9",
   "metadata": {},
   "outputs": [],
   "source": [
    "Csv_Main_Table = []\n",
    "Csv_FR_Table   = []\n",
    "Main_Table_Keys_List = ['Exchange_Symbol','Exchange','Symbol','Name','Base','Quote','Type','Funding_Rate']\n",
    "\n",
    "for i in Csv_File_Path:\n",
    "    with open(i,'r',newline='') as csv_read:\n",
    "        \n",
    "        Csv_Data = list(csv.reader(csv_read))\n",
    "        for x in Csv_Data:\n",
    "            Csv_Main_Table.append(str(x)[2:-2])"
   ]
  },
  {
   "cell_type": "code",
   "execution_count": null,
   "id": "ec407d2c",
   "metadata": {},
   "outputs": [],
   "source": []
  },
  {
   "cell_type": "code",
   "execution_count": 48,
   "id": "ba5feacc",
   "metadata": {},
   "outputs": [],
   "source": [
    "Csv_Main_Table_Path = os.getcwd() + '\\SQL_Bin\\SQL_Table\\\\' + 'Main_Table'"
   ]
  },
  {
   "cell_type": "code",
   "execution_count": 49,
   "id": "b9c074d4",
   "metadata": {},
   "outputs": [
    {
     "data": {
      "text/plain": [
       "'C:\\\\Users\\\\Chiang\\\\Virtual_Coin\\\\SQL_Bin\\\\SQL_Table\\\\Main_Table'"
      ]
     },
     "execution_count": 49,
     "metadata": {},
     "output_type": "execute_result"
    }
   ],
   "source": [
    "Csv_Main_Table_Path"
   ]
  },
  {
   "cell_type": "code",
   "execution_count": 50,
   "id": "f39303f3",
   "metadata": {},
   "outputs": [],
   "source": [
    "if os.path.exists(Csv_Main_Table_Path) == False:\n",
    "    with open(Csv_Main_Table_Path, 'a', newline='') as csv_write:\n",
    "        writer = csv.writer(csv_write)\n",
    "        for i in Csv_Main_Table:\n",
    "            writer.writerow([i])"
   ]
  },
  {
   "cell_type": "code",
   "execution_count": null,
   "id": "6b3d95f8",
   "metadata": {},
   "outputs": [],
   "source": []
  }
 ],
 "metadata": {
  "kernelspec": {
   "display_name": "Python 3 (ipykernel)",
   "language": "python",
   "name": "python3"
  },
  "language_info": {
   "codemirror_mode": {
    "name": "ipython",
    "version": 3
   },
   "file_extension": ".py",
   "mimetype": "text/x-python",
   "name": "python",
   "nbconvert_exporter": "python",
   "pygments_lexer": "ipython3",
   "version": "3.9.7"
  }
 },
 "nbformat": 4,
 "nbformat_minor": 5
}
