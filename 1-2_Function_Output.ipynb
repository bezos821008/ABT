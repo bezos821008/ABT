{
 "cells": [
  {
   "cell_type": "code",
   "execution_count": 1,
   "id": "8f3326a5",
   "metadata": {},
   "outputs": [],
   "source": [
    "import ccxt"
   ]
  },
  {
   "cell_type": "code",
   "execution_count": 2,
   "id": "d838a75a",
   "metadata": {},
   "outputs": [],
   "source": [
    "def methods(exchange):\n",
    "    methods = list(dir(exchange))\n",
    "    for method in methods:\n",
    "        print(method)\n",
    "    print(\"\")\n",
    "    \n",
    "def funding_output(exchange):\n",
    "    methods = list(dir(exchange))\n",
    "    for method in methods:\n",
    "        if 'funding' in method:\n",
    "            print(method)\n",
    "    print(\"\")\n",
    "    \n",
    "def tick_output(exchange):\n",
    "    methods = list(dir(exchange))\n",
    "    for method in methods:\n",
    "        if 'ticker' in method:\n",
    "            print(method)\n",
    "    print(\"\")"
   ]
  },
  {
   "cell_type": "code",
   "execution_count": 4,
   "id": "b1c9d452",
   "metadata": {},
   "outputs": [],
   "source": [
    "#methods_output(ccxt.binance())\n",
    "#methods_output(ccxt.okex())\n",
    "#methods_output(ccxt.bybit())\n",
    "#methods_output(ccxt.ftx())\n",
    "#methods_output(ccxt.gateio())\n",
    "#methods_output(ccxt.huobi())\n",
    "#methods_output(ccxt.bitfinex())"
   ]
  },
  {
   "cell_type": "code",
   "execution_count": 8,
   "id": "9cb16292",
   "metadata": {},
   "outputs": [
    {
     "name": "stdout",
     "output_type": "stream",
     "text": [
      "fetch_funding_fee\n",
      "fetch_funding_fees\n",
      "parse_funding_rate\n",
      "parse_funding_rates\n",
      "private_post_funding_close\n",
      "private_post_mytrades_funding\n",
      "\n"
     ]
    }
   ],
   "source": [
    "funding_output(ccxt.bitfinex())"
   ]
  },
  {
   "cell_type": "code",
   "execution_count": 9,
   "id": "d2c29d46",
   "metadata": {},
   "outputs": [],
   "source": [
    "#funding_output(ccxt.okex())"
   ]
  },
  {
   "cell_type": "code",
   "execution_count": 1,
   "id": "86fec7f0",
   "metadata": {},
   "outputs": [],
   "source": []
  },
  {
   "cell_type": "code",
   "execution_count": 1,
   "id": "f06e6ded",
   "metadata": {},
   "outputs": [],
   "source": [
    "import LineBot_Function"
   ]
  },
  {
   "cell_type": "code",
   "execution_count": 3,
   "id": "508cfc79",
   "metadata": {},
   "outputs": [
    {
     "name": "stdout",
     "output_type": "stream",
     "text": [
      "gogogo\n"
     ]
    }
   ],
   "source": [
    "LineBot_Function.hello()"
   ]
  },
  {
   "cell_type": "code",
   "execution_count": null,
   "id": "59ddc4cf",
   "metadata": {},
   "outputs": [],
   "source": []
  }
 ],
 "metadata": {
  "kernelspec": {
   "display_name": "Python 3 (ipykernel)",
   "language": "python",
   "name": "python3"
  },
  "language_info": {
   "codemirror_mode": {
    "name": "ipython",
    "version": 3
   },
   "file_extension": ".py",
   "mimetype": "text/x-python",
   "name": "python",
   "nbconvert_exporter": "python",
   "pygments_lexer": "ipython3",
   "version": "3.9.7"
  }
 },
 "nbformat": 4,
 "nbformat_minor": 5
}
