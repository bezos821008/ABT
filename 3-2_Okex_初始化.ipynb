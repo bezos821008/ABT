{
 "cells": [
  {
   "cell_type": "code",
   "execution_count": 159,
   "id": "573dd725",
   "metadata": {},
   "outputs": [],
   "source": [
    "import ccxt\n",
    "import os\n",
    "import csv"
   ]
  },
  {
   "cell_type": "code",
   "execution_count": 160,
   "id": "99357f7c",
   "metadata": {},
   "outputs": [],
   "source": [
    "exchange = ccxt.okex({\n",
    "    'enableRateLimit': True,\n",
    "})\n",
    "Response = exchange.load_markets()\n",
    "Keys_List = ['Symbol','Pair','Base','Quote','Type']"
   ]
  },
  {
   "cell_type": "code",
   "execution_count": 206,
   "id": "9db538b4",
   "metadata": {},
   "outputs": [],
   "source": [
    "USD_USDT_Symbol_List  = []\n",
    "for i in Response:\n",
    "    Currency_Dict = Response[i]\n",
    "    if Currency_Dict['swap']==True:\n",
    "        if Currency_Dict['quote'] == 'USDT' or Currency_Dict['quote']=='USD':\n",
    "            Symbol_List = []\n",
    "            Symbol_List.append(Currency_Dict['base']+Currency_Dict['quote'])\n",
    "            Symbol_List.append(Currency_Dict['symbol'])\n",
    "            Symbol_List.append(Currency_Dict['base'])\n",
    "            Symbol_List.append(Currency_Dict['quote'])\n",
    "            Symbol_List.append(Currency_Dict['quote']+'-PERP')\n",
    "            Csv_Write = \"\"\n",
    "            for x in Symbol_List:\n",
    "                Csv_Write = Csv_Write+(x+'___')\n",
    "            Csv_Write = Csv_Write[:-3]\n",
    "            Symbol_List.append(Csv_Write)\n",
    "            USD_USDT_Symbol_List.append(Symbol_List)"
   ]
  },
  {
   "cell_type": "code",
   "execution_count": null,
   "id": "73b4b1c1",
   "metadata": {},
   "outputs": [],
   "source": []
  },
  {
   "cell_type": "code",
   "execution_count": null,
   "id": "fba88ed0",
   "metadata": {},
   "outputs": [],
   "source": []
  },
  {
   "cell_type": "code",
   "execution_count": 314,
   "id": "17f45e3c",
   "metadata": {},
   "outputs": [],
   "source": [
    "def Csv_Function(exchange_name,currency_list):\n",
    "    for i in range(len(currency_list)):\n",
    "        \n",
    "        Store_Path = os.getcwd() + '\\Csv_Bin\\\\' + currency_list[i][4]\n",
    "\n",
    "        if os.path.exists(Store_Path) == True:\n",
    "            \n",
    "            File_Path = Store_Path + '\\\\' + currency_list[i][0] + \"-\" + currency_list[i][4]\n",
    "            \n",
    "            Write_Data = [exchange_name+'___'+currency_list[i][5]]\n",
    "\n",
    "            if os.path.exists(File_Path) == False:\n",
    "                with open(File_Path, 'a', newline='') as csv_write:\n",
    "                    writer = csv.writer(csv_write)\n",
    "                    writer.writerow(Write_Data)\n",
    "            \n",
    "            if os.path.exists(File_Path) == True:\n",
    "                with open(File_Path, 'r', newline='') as csv_read:\n",
    "                    rows = list(csv.reader(csv_read))\n",
    "                    #print(rows[0])\n",
    "                    \n",
    "                if Write_Data not in rows:\n",
    "                    with open(File_Path, 'a', newline='') as csv_write:\n",
    "                        writer = csv.writer(csv_write)\n",
    "                        writer.writerow(Write_Data)"
   ]
  },
  {
   "cell_type": "code",
   "execution_count": 319,
   "id": "c025a23d",
   "metadata": {},
   "outputs": [],
   "source": [
    "Csv_Function('okex',USD_USDT_Symbol_List)"
   ]
  },
  {
   "cell_type": "code",
   "execution_count": null,
   "id": "60f21950",
   "metadata": {},
   "outputs": [],
   "source": []
  },
  {
   "cell_type": "code",
   "execution_count": null,
   "id": "dd095128",
   "metadata": {},
   "outputs": [],
   "source": []
  }
 ],
 "metadata": {
  "kernelspec": {
   "display_name": "Python 3 (ipykernel)",
   "language": "python",
   "name": "python3"
  },
  "language_info": {
   "codemirror_mode": {
    "name": "ipython",
    "version": 3
   },
   "file_extension": ".py",
   "mimetype": "text/x-python",
   "name": "python",
   "nbconvert_exporter": "python",
   "pygments_lexer": "ipython3",
   "version": "3.9.7"
  }
 },
 "nbformat": 4,
 "nbformat_minor": 5
}
