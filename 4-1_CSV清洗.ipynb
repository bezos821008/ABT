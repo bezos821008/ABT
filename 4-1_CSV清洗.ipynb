{
 "cells": [
  {
   "cell_type": "code",
   "execution_count": 5,
   "id": "e8e6a666",
   "metadata": {},
   "outputs": [],
   "source": [
    "import os\n",
    "import csv"
   ]
  },
  {
   "cell_type": "code",
   "execution_count": 7,
   "id": "b328f7d0",
   "metadata": {},
   "outputs": [],
   "source": [
    "Csv_Bin_Path  = os.getcwd() + r'\\Csv_Bin'\n",
    "Bin_File_List = os.listdir(Csv_Bin_Path)\n",
    "All_Csv_File_Path = []\n",
    "\n",
    "for i in range(len(Bin_File_List)):\n",
    "    File_Csv_Path = Csv_Bin_Path + '\\\\' + Bin_File_List[i]\n",
    "    \n",
    "    for x in os.listdir(File_Csv_Path):\n",
    "        All_Csv_File_Path.append(File_Csv_Path + '\\\\' + x)"
   ]
  },
  {
   "cell_type": "code",
   "execution_count": null,
   "id": "926768c5",
   "metadata": {},
   "outputs": [],
   "source": []
  },
  {
   "cell_type": "code",
   "execution_count": null,
   "id": "58e32828",
   "metadata": {},
   "outputs": [],
   "source": []
  },
  {
   "cell_type": "code",
   "execution_count": 10,
   "id": "bb4af911",
   "metadata": {},
   "outputs": [],
   "source": [
    "def Csv_Delete(All_Csv_File_Path):\n",
    "    for i in All_Csv_File_Path:\n",
    "        if os.path.exists(i)==True:\n",
    "            if os.path.exists(i)==True:\n",
    "                with open(i, 'r', newline='') as csv_read:\n",
    "                    rows = list(csv.reader(csv_read))\n",
    "                    #print(rows)\n",
    "                    #print(len(rows))\n",
    "                if len(rows) <= 1:\n",
    "                    os.remove(i)\n",
    "                    #print(i)"
   ]
  },
  {
   "cell_type": "code",
   "execution_count": 11,
   "id": "c6195b68",
   "metadata": {
    "scrolled": true
   },
   "outputs": [],
   "source": [
    "Csv_Delete(All_Csv_File_Path)"
   ]
  },
  {
   "cell_type": "code",
   "execution_count": null,
   "id": "437c8908",
   "metadata": {},
   "outputs": [],
   "source": []
  },
  {
   "cell_type": "code",
   "execution_count": null,
   "id": "aff08ef5",
   "metadata": {},
   "outputs": [],
   "source": []
  },
  {
   "cell_type": "code",
   "execution_count": null,
   "id": "8815d0e7",
   "metadata": {},
   "outputs": [],
   "source": []
  },
  {
   "cell_type": "code",
   "execution_count": null,
   "id": "c65f211e",
   "metadata": {},
   "outputs": [],
   "source": []
  },
  {
   "cell_type": "code",
   "execution_count": null,
   "id": "bae8a1ae",
   "metadata": {},
   "outputs": [],
   "source": []
  }
 ],
 "metadata": {
  "kernelspec": {
   "display_name": "Python 3 (ipykernel)",
   "language": "python",
   "name": "python3"
  },
  "language_info": {
   "codemirror_mode": {
    "name": "ipython",
    "version": 3
   },
   "file_extension": ".py",
   "mimetype": "text/x-python",
   "name": "python",
   "nbconvert_exporter": "python",
   "pygments_lexer": "ipython3",
   "version": "3.9.7"
  }
 },
 "nbformat": 4,
 "nbformat_minor": 5
}
