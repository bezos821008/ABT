{
 "cells": [
  {
   "cell_type": "code",
   "execution_count": 44,
   "id": "b210a9ee",
   "metadata": {},
   "outputs": [],
   "source": [
    "#https://www.coinglass.com/BitcoinOpenInterest\n",
    "import requests\n",
    "from bs4 import BeautifulSoup\n",
    "import numpy as np\n",
    "import pandas as pd"
   ]
  },
  {
   "cell_type": "code",
   "execution_count": 7,
   "id": "f8bd6ea3",
   "metadata": {},
   "outputs": [],
   "source": [
    "response = requests.get(\n",
    "    \"https://www.coinglass.com/BitcoinOpenInterest\")"
   ]
  },
  {
   "cell_type": "code",
   "execution_count": 21,
   "id": "b50e354c",
   "metadata": {},
   "outputs": [],
   "source": [
    "soup = BeautifulSoup(response.text, \"html.parser\")\n",
    "result = soup.find_all(\"a\",class_=\"bybt-tab-item ly-tab-item\")"
   ]
  },
  {
   "cell_type": "code",
   "execution_count": null,
   "id": "bfb8a80e",
   "metadata": {},
   "outputs": [],
   "source": []
  },
  {
   "cell_type": "code",
   "execution_count": null,
   "id": "42eaef75",
   "metadata": {},
   "outputs": [],
   "source": []
  },
  {
   "cell_type": "code",
   "execution_count": 52,
   "id": "ee0a64c3",
   "metadata": {},
   "outputs": [],
   "source": [
    "Currency_List = ['BTC']"
   ]
  },
  {
   "cell_type": "code",
   "execution_count": 53,
   "id": "ffa51b0f",
   "metadata": {},
   "outputs": [],
   "source": [
    "for i in result:\n",
    "    i_str = str(i)\n",
    "    i_str = i_str[:-4]\n",
    "    i_str = i_str[37:]\n",
    "    Currency_List.append(i_str)"
   ]
  },
  {
   "cell_type": "code",
   "execution_count": 76,
   "id": "92bcd8f5",
   "metadata": {},
   "outputs": [],
   "source": [
    "df = pd.Series(Currency_List)"
   ]
  },
  {
   "cell_type": "code",
   "execution_count": 77,
   "id": "5ea970b2",
   "metadata": {
    "scrolled": true
   },
   "outputs": [],
   "source": [
    "df.to_csv('Currency_Ranking.csv', index=False)"
   ]
  },
  {
   "cell_type": "code",
   "execution_count": 1,
   "id": "49fbbe1f",
   "metadata": {},
   "outputs": [
    {
     "ename": "NameError",
     "evalue": "name 'df' is not defined",
     "output_type": "error",
     "traceback": [
      "\u001b[1;31m---------------------------------------------------------------------------\u001b[0m",
      "\u001b[1;31mNameError\u001b[0m                                 Traceback (most recent call last)",
      "\u001b[1;32m~\\AppData\\Local\\Temp/ipykernel_8176/1396537375.py\u001b[0m in \u001b[0;36m<module>\u001b[1;34m\u001b[0m\n\u001b[1;32m----> 1\u001b[1;33m \u001b[0mdf\u001b[0m\u001b[1;33m\u001b[0m\u001b[1;33m\u001b[0m\u001b[0m\n\u001b[0m",
      "\u001b[1;31mNameError\u001b[0m: name 'df' is not defined"
     ]
    }
   ],
   "source": [
    "df"
   ]
  },
  {
   "cell_type": "code",
   "execution_count": null,
   "id": "02fc45d2",
   "metadata": {},
   "outputs": [],
   "source": []
  }
 ],
 "metadata": {
  "kernelspec": {
   "display_name": "Python 3 (ipykernel)",
   "language": "python",
   "name": "python3"
  },
  "language_info": {
   "codemirror_mode": {
    "name": "ipython",
    "version": 3
   },
   "file_extension": ".py",
   "mimetype": "text/x-python",
   "name": "python",
   "nbconvert_exporter": "python",
   "pygments_lexer": "ipython3",
   "version": "3.9.7"
  }
 },
 "nbformat": 4,
 "nbformat_minor": 5
}
