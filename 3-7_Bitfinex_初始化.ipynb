{
 "cells": [
  {
   "cell_type": "code",
   "execution_count": 1,
   "id": "ec58a61c",
   "metadata": {},
   "outputs": [],
   "source": [
    "import requests\n",
    "from fake_useragent import UserAgent\n",
    "import os\n",
    "import csv\n",
    "ua = UserAgent()"
   ]
  },
  {
   "cell_type": "code",
   "execution_count": 2,
   "id": "4bb57a0b",
   "metadata": {},
   "outputs": [],
   "source": [
    "user_agent = ua.random\n",
    "headers = {'user-agent': user_agent}\n",
    "url = 'https://api-pub.bitfinex.com/v2/status/deriv?keys=ALL'\n",
    "response_requests = requests.get(url,headers={'user-agent': ua.random})\n",
    "response_requests.close\n",
    "Response = response_requests.json()\n",
    "Keys_List = ['Symbol','Pair','Base','Quote','Type']"
   ]
  },
  {
   "cell_type": "code",
   "execution_count": 3,
   "id": "1b5543d7",
   "metadata": {},
   "outputs": [],
   "source": [
    "USD_USDT_Symbol_List  = []\n",
    "for i in Response:\n",
    "    Currency_Dict = i[0].split(':')\n",
    "    if Currency_Dict[1] == 'USTF0':\n",
    "        Symbol_List = []\n",
    "        base  = Currency_Dict[0].replace('F0',\"\")\n",
    "        base  = base[1:]\n",
    "        quote = 'USDT'\n",
    "        Symbol_List.append(base+quote)\n",
    "        Symbol_List.append(Currency_Dict[0]+'/'+Currency_Dict[1])\n",
    "        Symbol_List.append(base)\n",
    "        Symbol_List.append(quote)\n",
    "        Symbol_List.append(quote+'-PERP')\n",
    "        Csv_Write = \"\"\n",
    "        for x in Symbol_List:\n",
    "            Csv_Write = Csv_Write+(x+'___')\n",
    "        Csv_Write = Csv_Write[:-3]\n",
    "        Symbol_List.append(Csv_Write)\n",
    "        USD_USDT_Symbol_List.append(Symbol_List)"
   ]
  },
  {
   "cell_type": "code",
   "execution_count": 4,
   "id": "21b8e529",
   "metadata": {},
   "outputs": [],
   "source": [
    "def Csv_Function(exchange_name,currency_list):\n",
    "    for i in range(len(currency_list)):\n",
    "        \n",
    "        Store_Path = os.getcwd() + '\\Csv_Bin\\\\' + currency_list[i][4]\n",
    "\n",
    "        if os.path.exists(Store_Path) == True:\n",
    "            \n",
    "            File_Path = Store_Path + '\\\\' + currency_list[i][0] + \"-\" + currency_list[i][4]\n",
    "            \n",
    "            Write_Data = [exchange_name+'___'+currency_list[i][5]]\n",
    "\n",
    "            if os.path.exists(File_Path) == False:\n",
    "                with open(File_Path, 'a', newline='') as csv_write:\n",
    "                    writer = csv.writer(csv_write)\n",
    "                    writer.writerow(Write_Data)\n",
    "            \n",
    "            if os.path.exists(File_Path) == True:\n",
    "                with open(File_Path, 'r', newline='') as csv_read:\n",
    "                    rows = list(csv.reader(csv_read))\n",
    "                    #print(rows[0])\n",
    "                    \n",
    "                if Write_Data not in rows:\n",
    "                    with open(File_Path, 'a', newline='') as csv_write:\n",
    "                        writer = csv.writer(csv_write)\n",
    "                        writer.writerow(Write_Data)"
   ]
  },
  {
   "cell_type": "code",
   "execution_count": 9,
   "id": "f35645a2",
   "metadata": {},
   "outputs": [],
   "source": [
    "Csv_Function('bitfinex',USD_USDT_Symbol_List)"
   ]
  },
  {
   "cell_type": "code",
   "execution_count": null,
   "id": "2073fafc",
   "metadata": {},
   "outputs": [],
   "source": []
  },
  {
   "cell_type": "code",
   "execution_count": null,
   "id": "190b6313",
   "metadata": {},
   "outputs": [],
   "source": []
  },
  {
   "cell_type": "code",
   "execution_count": null,
   "id": "c56688df",
   "metadata": {},
   "outputs": [],
   "source": []
  }
 ],
 "metadata": {
  "kernelspec": {
   "display_name": "Python 3 (ipykernel)",
   "language": "python",
   "name": "python3"
  },
  "language_info": {
   "codemirror_mode": {
    "name": "ipython",
    "version": 3
   },
   "file_extension": ".py",
   "mimetype": "text/x-python",
   "name": "python",
   "nbconvert_exporter": "python",
   "pygments_lexer": "ipython3",
   "version": "3.9.7"
  }
 },
 "nbformat": 4,
 "nbformat_minor": 5
}
