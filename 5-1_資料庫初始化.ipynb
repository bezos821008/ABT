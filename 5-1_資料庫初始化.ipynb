{
 "cells": [
  {
   "cell_type": "code",
   "execution_count": 1,
   "id": "f74aafb6",
   "metadata": {},
   "outputs": [],
   "source": [
    "import psycopg2\n",
    "from psycopg2.extensions import ISOLATION_LEVEL_AUTOCOMMIT\n",
    "import os"
   ]
  },
  {
   "cell_type": "code",
   "execution_count": 2,
   "id": "d617a474",
   "metadata": {},
   "outputs": [],
   "source": [
    "def DataBase_Init():\n",
    "    try:\n",
    "        connection = psycopg2.connect(user=\"admin\",\n",
    "                                      password=\"123456\",\n",
    "                                      host=\"127.0.0.1\",\n",
    "                                      port=\"5432\",\n",
    "                                      database='postgres')\n",
    "        \n",
    "        connection.set_isolation_level(ISOLATION_LEVEL_AUTOCOMMIT)\n",
    "        \n",
    "        SQL_Cursor = connection.cursor()\n",
    "        \n",
    "        SQL_Cursor.execute(\"SELECT 1 FROM pg_catalog.pg_database WHERE datname = 'arbitrage'\")\n",
    "        \n",
    "        connection.commit()\n",
    "        \n",
    "        SQL_Cursor_fetchall = SQL_Cursor.fetchall()\n",
    "        \n",
    "        \n",
    "        if SQL_Cursor_fetchall:\n",
    "            print('Arbitrage_Database Already Exist')\n",
    "            \n",
    "        if not SQL_Cursor_fetchall:\n",
    "            connection.cursor().execute('CREATE DATABASE arbitrage')\n",
    "            connection.commit()\n",
    "            print('Create Arbitrage_Database Successfully')\n",
    "\n",
    "    except (Exception, Error) as error:\n",
    "        print(\"Error while connecting to PostgreSQL\", error)\n",
    "    finally:\n",
    "        if connection:\n",
    "            cursor = connection.cursor()\n",
    "            cursor.close()\n",
    "            connection.close()\n",
    "            #return(exists)"
   ]
  },
  {
   "cell_type": "code",
   "execution_count": 4,
   "id": "d7591b48",
   "metadata": {},
   "outputs": [
    {
     "name": "stdout",
     "output_type": "stream",
     "text": [
      "Create Arbitrage_Database Successfully\n"
     ]
    }
   ],
   "source": [
    "DataBase_Init()"
   ]
  },
  {
   "cell_type": "code",
   "execution_count": null,
   "id": "6e8217e7",
   "metadata": {},
   "outputs": [],
   "source": []
  },
  {
   "cell_type": "code",
   "execution_count": 23,
   "id": "1cbe0315",
   "metadata": {},
   "outputs": [],
   "source": []
  },
  {
   "cell_type": "code",
   "execution_count": null,
   "id": "53bae202",
   "metadata": {},
   "outputs": [],
   "source": []
  },
  {
   "cell_type": "code",
   "execution_count": null,
   "id": "957715ae",
   "metadata": {},
   "outputs": [],
   "source": []
  }
 ],
 "metadata": {
  "kernelspec": {
   "display_name": "Python 3 (ipykernel)",
   "language": "python",
   "name": "python3"
  },
  "language_info": {
   "codemirror_mode": {
    "name": "ipython",
    "version": 3
   },
   "file_extension": ".py",
   "mimetype": "text/x-python",
   "name": "python",
   "nbconvert_exporter": "python",
   "pygments_lexer": "ipython3",
   "version": "3.9.7"
  }
 },
 "nbformat": 4,
 "nbformat_minor": 5
}
