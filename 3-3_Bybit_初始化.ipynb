{
 "cells": [
  {
   "cell_type": "code",
   "execution_count": 6,
   "id": "a6496ade",
   "metadata": {},
   "outputs": [],
   "source": [
    "import ccxt\n",
    "import os\n",
    "import csv"
   ]
  },
  {
   "cell_type": "code",
   "execution_count": 7,
   "id": "5214d5c1",
   "metadata": {},
   "outputs": [],
   "source": [
    "exchange = ccxt.bybit({\n",
    "    'enableRateLimit': True,\n",
    "})\n",
    "Response = exchange.load_markets()\n",
    "Keys_List = ['Symbol','Pair','Base','Quote','Type']"
   ]
  },
  {
   "cell_type": "code",
   "execution_count": 8,
   "id": "7ab23c6b",
   "metadata": {},
   "outputs": [],
   "source": [
    "USD_USDT_Symbol_List  = []\n",
    "for i in Response:\n",
    "    Currency_Dict = Response[i]\n",
    "    if Currency_Dict['swap']==True:\n",
    "        if Currency_Dict['quote'] == 'USDT' or Currency_Dict['quote']=='USD':\n",
    "            Symbol_List = []\n",
    "            Symbol_List.append(Currency_Dict['base']+Currency_Dict['quote'])\n",
    "            Symbol_List.append(Currency_Dict['symbol'])\n",
    "            Symbol_List.append(Currency_Dict['base'])\n",
    "            Symbol_List.append(Currency_Dict['quote'])\n",
    "            Symbol_List.append(Currency_Dict['quote']+'-PERP')\n",
    "            USD_USDT_Symbol_List.append(dict(zip(Keys_List, Symbol_List)))"
   ]
  },
  {
   "cell_type": "code",
   "execution_count": 14,
   "id": "8ecf1d73",
   "metadata": {},
   "outputs": [],
   "source": [
    "def Csv_Function(exchange_name,currency_list):\n",
    "    for i in range(len(currency_list)):\n",
    "        \n",
    "        Store_Path = os.getcwd() + '\\Csv_Bin\\\\' + currency_list[i]['Type']\n",
    "\n",
    "        if os.path.exists(Store_Path) == True:\n",
    "\n",
    "            File_Path = Store_Path + '\\\\' + currency_list[i]['Symbol'] + \"-\" + currency_list[i]['Type']\n",
    "\n",
    "            write_value = {exchange_name:currency_list[i]}\n",
    "\n",
    "            if os.path.exists(File_Path) == False:\n",
    "                with open(File_Path, 'a', newline='') as csv_write:\n",
    "                    writer = csv.writer(csv_write)\n",
    "                    for k, v in write_value.items():\n",
    "                        writer.writerow([k, v])\n",
    "            \n",
    "            if os.path.exists(File_Path) == True:\n",
    "                with open(File_Path, 'r', newline='') as csv_read:\n",
    "                    rows = dict(csv.reader(csv_read))\n",
    "\n",
    "                if exchange_name not in list(rows):\n",
    "                    with open(File_Path, 'a', newline='') as csv_write:\n",
    "                            writer = csv.writer(csv_write)\n",
    "                            for k, v in write_value.items():\n",
    "                                writer.writerow([k, v])"
   ]
  },
  {
   "cell_type": "code",
   "execution_count": 15,
   "id": "3aeab4d1",
   "metadata": {},
   "outputs": [],
   "source": [
    "Csv_Function('bybit',USD_USDT_Symbol_List)"
   ]
  },
  {
   "cell_type": "code",
   "execution_count": null,
   "id": "028e4a7b",
   "metadata": {},
   "outputs": [],
   "source": []
  },
  {
   "cell_type": "code",
   "execution_count": null,
   "id": "b05ef961",
   "metadata": {},
   "outputs": [],
   "source": []
  }
 ],
 "metadata": {
  "kernelspec": {
   "display_name": "Python 3 (ipykernel)",
   "language": "python",
   "name": "python3"
  },
  "language_info": {
   "codemirror_mode": {
    "name": "ipython",
    "version": 3
   },
   "file_extension": ".py",
   "mimetype": "text/x-python",
   "name": "python",
   "nbconvert_exporter": "python",
   "pygments_lexer": "ipython3",
   "version": "3.9.7"
  }
 },
 "nbformat": 4,
 "nbformat_minor": 5
}
