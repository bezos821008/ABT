{
 "cells": [
  {
   "cell_type": "code",
   "execution_count": 1,
   "id": "a6496ade",
   "metadata": {},
   "outputs": [],
   "source": [
    "import ccxt\n",
    "import pandas as pd\n",
    "import os\n",
    "import csv"
   ]
  },
  {
   "cell_type": "code",
   "execution_count": 2,
   "id": "5214d5c1",
   "metadata": {},
   "outputs": [],
   "source": [
    "exchange = ccxt.bybit({\n",
    "    'enableRateLimit': True,\n",
    "})\n",
    "Response = exchange.load_markets()\n",
    "Keys_List = ['Symbol','Pair','Base','Quote','Type']"
   ]
  },
  {
   "cell_type": "code",
   "execution_count": null,
   "id": "11d296e9",
   "metadata": {},
   "outputs": [],
   "source": []
  },
  {
   "cell_type": "code",
   "execution_count": 3,
   "id": "7ab23c6b",
   "metadata": {},
   "outputs": [],
   "source": [
    "USD_USDT_Symbol_List  = []\n",
    "for i in Response:\n",
    "    Currency_Dict = Response[i]\n",
    "    if Currency_Dict['swap']==True:\n",
    "        if Currency_Dict['quote'] == 'USDT' or Currency_Dict['quote']=='USD':\n",
    "            Symbol_List = []\n",
    "            Symbol_List.append(Currency_Dict['base']+Currency_Dict['quote'])\n",
    "            Symbol_List.append(Currency_Dict['symbol'])\n",
    "            Symbol_List.append(Currency_Dict['base'])\n",
    "            Symbol_List.append(Currency_Dict['quote'])\n",
    "            Symbol_List.append(Currency_Dict['quote']+'-PERP')\n",
    "            USD_USDT_Symbol_List.append(Symbol_List)"
   ]
  },
  {
   "cell_type": "code",
   "execution_count": null,
   "id": "a2a61c7b",
   "metadata": {},
   "outputs": [],
   "source": []
  },
  {
   "cell_type": "code",
   "execution_count": 4,
   "id": "9e89cb8c",
   "metadata": {},
   "outputs": [],
   "source": [
    "def Data_To_List(Currency_List,Keys_Values_List):\n",
    "    Full_List = []\n",
    "    for i in range(len(Currency_List)):\n",
    "        Def_Symbol_List = []\n",
    "        for x in range(len(Keys_Values_List)):\n",
    "            Def_Symbol_List.append( [Keys_Values_List[x],Currency_List[i][x]] )\n",
    "        Full_List.append(Def_Symbol_List)\n",
    "    return(Full_List)"
   ]
  },
  {
   "cell_type": "code",
   "execution_count": 5,
   "id": "b5d722c6",
   "metadata": {},
   "outputs": [],
   "source": [
    "USD_USDT_Data_List  = Data_To_List(USD_USDT_Symbol_List,Keys_List)"
   ]
  },
  {
   "cell_type": "code",
   "execution_count": 6,
   "id": "8ecf1d73",
   "metadata": {},
   "outputs": [],
   "source": [
    "def Csv_Function(exchange_name,currency_list):\n",
    "    for i in range(len(currency_list)):\n",
    "        \n",
    "        Store_Path = os.getcwd() + '\\\\' + currency_list[i][4][1]\n",
    "        if os.path.exists(Store_Path) == True:\n",
    "            \n",
    "            File_Path = Store_Path + '\\\\' + currency_list[i][0][1] + \"-\" + currency_list[i][4][1]\n",
    "            \n",
    "            write_value = exchange_name + '/' + str(currency_list[i])\n",
    "            \n",
    "            if os.path.exists(File_Path) == False:\n",
    "                with open(File_Path, 'a', newline='') as csv_write:\n",
    "                    writer = csv.writer(csv_write, delimiter=',')\n",
    "                    writer.writerow([write_value])\n",
    "                    #print(write_value)\n",
    "                    \n",
    "            \n",
    "            if os.path.exists(File_Path) == True:\n",
    "                with open(File_Path, 'r', newline='') as csv_read:\n",
    "                    rows = list(csv.reader(csv_read))\n",
    "                    if [write_value] not in rows:\n",
    "                        with open(File_Path, 'a', newline='') as csv_write:\n",
    "                                writer = csv.writer(csv_write, delimiter=',')\n",
    "                                writer.writerow([write_value])\n",
    "                                #print(write_value)\n",
    "                                #print(rows)"
   ]
  },
  {
   "cell_type": "code",
   "execution_count": 7,
   "id": "3aeab4d1",
   "metadata": {},
   "outputs": [],
   "source": [
    "Csv_Function('bybit',USD_USDT_Data_List)"
   ]
  },
  {
   "cell_type": "code",
   "execution_count": null,
   "id": "028e4a7b",
   "metadata": {},
   "outputs": [],
   "source": []
  }
 ],
 "metadata": {
  "kernelspec": {
   "display_name": "Python 3 (ipykernel)",
   "language": "python",
   "name": "python3"
  },
  "language_info": {
   "codemirror_mode": {
    "name": "ipython",
    "version": 3
   },
   "file_extension": ".py",
   "mimetype": "text/x-python",
   "name": "python",
   "nbconvert_exporter": "python",
   "pygments_lexer": "ipython3",
   "version": "3.9.7"
  }
 },
 "nbformat": 4,
 "nbformat_minor": 5
}
