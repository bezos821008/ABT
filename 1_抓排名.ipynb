{
 "cells": [
  {
   "cell_type": "code",
   "execution_count": 44,
   "id": "79fc10b3",
   "metadata": {},
   "outputs": [],
   "source": [
    "#https://www.coinglass.com/BitcoinOpenInterest\n",
    "import requests\n",
    "from bs4 import BeautifulSoup\n",
    "import numpy as np\n",
    "import pandas as pd"
   ]
  },
  {
   "cell_type": "code",
   "execution_count": 7,
   "id": "0cd1ca7d",
   "metadata": {},
   "outputs": [],
   "source": [
    "response = requests.get(\n",
    "    \"https://www.coinglass.com/BitcoinOpenInterest\")"
   ]
  },
  {
   "cell_type": "code",
   "execution_count": 21,
   "id": "ac66cca9",
   "metadata": {},
   "outputs": [],
   "source": [
    "soup = BeautifulSoup(response.text, \"html.parser\")\n",
    "result = soup.find_all(\"a\",class_=\"bybt-tab-item ly-tab-item\")"
   ]
  },
  {
   "cell_type": "code",
   "execution_count": null,
   "id": "b59e4b15",
   "metadata": {},
   "outputs": [],
   "source": []
  },
  {
   "cell_type": "code",
   "execution_count": null,
   "id": "7c18e111",
   "metadata": {},
   "outputs": [],
   "source": []
  },
  {
   "cell_type": "code",
   "execution_count": 52,
   "id": "a9ddf2a7",
   "metadata": {},
   "outputs": [],
   "source": [
    "Currency_List = ['BTC']"
   ]
  },
  {
   "cell_type": "code",
   "execution_count": 53,
   "id": "bb5367d2",
   "metadata": {},
   "outputs": [],
   "source": [
    "for i in result:\n",
    "    i_str = str(i)\n",
    "    i_str = i_str[:-4]\n",
    "    i_str = i_str[37:]\n",
    "    Currency_List.append(i_str)"
   ]
  },
  {
   "cell_type": "code",
   "execution_count": 65,
   "id": "fc92c67b",
   "metadata": {},
   "outputs": [],
   "source": [
    "df = pd.Series(Currency_List)"
   ]
  },
  {
   "cell_type": "code",
   "execution_count": 66,
   "id": "f45e6ef2",
   "metadata": {
    "scrolled": true
   },
   "outputs": [],
   "source": [
    "df.to_csv('Currency_Ranking.csv', index=False)"
   ]
  },
  {
   "cell_type": "code",
   "execution_count": 67,
   "id": "5d2f95b6",
   "metadata": {},
   "outputs": [
    {
     "data": {
      "text/plain": [
       "0        BTC\n",
       "1        ETH\n",
       "2        SOL\n",
       "3        ADA\n",
       "4        XRP\n",
       "       ...  \n",
       "197      MTA\n",
       "198     MASS\n",
       "199      WOO\n",
       "200      BAO\n",
       "201    CUSDT\n",
       "Length: 202, dtype: object"
      ]
     },
     "execution_count": 67,
     "metadata": {},
     "output_type": "execute_result"
    }
   ],
   "source": [
    "df"
   ]
  },
  {
   "cell_type": "code",
   "execution_count": null,
   "id": "785d27a7",
   "metadata": {},
   "outputs": [],
   "source": []
  }
 ],
 "metadata": {
  "kernelspec": {
   "display_name": "Python 3 (ipykernel)",
   "language": "python",
   "name": "python3"
  },
  "language_info": {
   "codemirror_mode": {
    "name": "ipython",
    "version": 3
   },
   "file_extension": ".py",
   "mimetype": "text/x-python",
   "name": "python",
   "nbconvert_exporter": "python",
   "pygments_lexer": "ipython3",
   "version": "3.9.7"
  }
 },
 "nbformat": 4,
 "nbformat_minor": 5
}
