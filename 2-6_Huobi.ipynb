{
 "cells": [
  {
   "cell_type": "code",
   "execution_count": 2,
   "id": "b51c4d1e",
   "metadata": {},
   "outputs": [],
   "source": [
    "import ccxt"
   ]
  },
  {
   "cell_type": "code",
   "execution_count": 3,
   "id": "c0d24969",
   "metadata": {},
   "outputs": [],
   "source": [
    "exchange = ccxt.huobi({\n",
    "    'enableRateLimit': True,\n",
    "})"
   ]
  },
  {
   "cell_type": "code",
   "execution_count": 3,
   "id": "17f7f4f1",
   "metadata": {},
   "outputs": [],
   "source": [
    "cy_list = exchange.load_markets()"
   ]
  },
  {
   "cell_type": "code",
   "execution_count": 4,
   "id": "107aba23",
   "metadata": {},
   "outputs": [
    {
     "data": {
      "text/plain": [
       "1281"
      ]
     },
     "execution_count": 4,
     "metadata": {},
     "output_type": "execute_result"
    }
   ],
   "source": [
    "len(cy_list)"
   ]
  },
  {
   "cell_type": "code",
   "execution_count": 24,
   "id": "cfc10a57",
   "metadata": {
    "scrolled": true
   },
   "outputs": [
    {
     "name": "stdout",
     "output_type": "stream",
     "text": [
      "BTC/USDT:USDT\n",
      "0.01\n",
      "\n",
      "ETH/USDT:USDT\n",
      "0.01\n",
      "\n",
      "LTC/USDT:USDT\n",
      "0.01\n",
      "\n",
      "DOGE/USDT:USDT\n",
      "0.01\n",
      "\n",
      "SHIB/USDT:USDT\n",
      "0.01\n",
      "\n",
      "ICP/USDT:USDT\n",
      "0.01\n",
      "\n",
      "XRP/USDT:USDT\n",
      "0.01\n",
      "\n",
      "LINK/USDT:USDT\n",
      "0.01\n",
      "\n",
      "TRX/USDT:USDT\n",
      "0.01\n",
      "\n",
      "DOT/USDT:USDT\n",
      "0.0063532138907829005\n",
      "\n",
      "ADA/USDT:USDT\n",
      "0.01\n",
      "\n",
      "EOS/USDT:USDT\n",
      "0.01\n",
      "\n",
      "BCH/USDT:USDT\n",
      "0.01\n",
      "\n",
      "BSV/USDT:USDT\n",
      "0.01\n",
      "\n",
      "YFI/USDT:USDT\n",
      "0.01\n",
      "\n",
      "UNI/USDT:USDT\n",
      "0.01\n",
      "\n",
      "FIL/USDT:USDT\n",
      "0.01\n",
      "\n",
      "YFII/USDT:USDT\n",
      "0.01\n",
      "\n",
      "SNX/USDT:USDT\n",
      "0.01\n",
      "\n",
      "BNB/USDT:USDT\n",
      "-0.0392625494304435\n",
      "\n",
      "ZEC/USDT:USDT\n",
      "0.01\n",
      "\n",
      "DASH/USDT:USDT\n",
      "0.01\n",
      "\n",
      "ETC/USDT:USDT\n",
      "0.009892603243743699\n",
      "\n",
      "THETA/USDT:USDT\n",
      "0.01\n",
      "\n",
      "KSM/USDT:USDT\n",
      "0.01\n",
      "\n",
      "ATOM/USDT:USDT\n",
      "0.01\n",
      "\n",
      "AAVE/USDT:USDT\n",
      "0.01\n",
      "\n",
      "XLM/USDT:USDT\n",
      "0.01\n",
      "\n",
      "SUSHI/USDT:USDT\n",
      "0.01\n",
      "\n",
      "GRT/USDT:USDT\n",
      "0.01\n",
      "\n"
     ]
    }
   ],
   "source": [
    "cot = 0\n",
    "for i in cy_list:\n",
    "    if cy_list[i]['swap']==True:\n",
    "        str1 = i.split(':')\n",
    "        if cot<30:\n",
    "            cot = cot+1\n",
    "            if str1[1]=='USDT' or str1[1]=='USD':\n",
    "                currency_dict = exchange.fetch_funding_rate(i)\n",
    "                print(currency_dict['symbol'])\n",
    "                print(float(currency_dict['previousFundingRate'])*100)\n",
    "                print(\"\")\n",
    "        \n",
    "        "
   ]
  },
  {
   "cell_type": "code",
   "execution_count": 10,
   "id": "9d0f4361",
   "metadata": {},
   "outputs": [],
   "source": [
    "cot = 0\n",
    "for i in cy_list:\n",
    "    if cy_list[i]['swap']==True:\n",
    "        str1 = i.split(':')\n",
    "        \n",
    "        if str1[1]=='USDT' or str1[1]=='USD':\n",
    "            #currency_dict = exchange.fetch_funding_rate(i)\n",
    "            #print(currency_dict['symbol'])\n",
    "            cot = cot+1\n",
    "            #print(float(currency_dict['previousFundingRate'])*100)\n",
    "            "
   ]
  },
  {
   "cell_type": "code",
   "execution_count": 11,
   "id": "68b93bbc",
   "metadata": {},
   "outputs": [
    {
     "data": {
      "text/plain": [
       "115"
      ]
     },
     "execution_count": 11,
     "metadata": {},
     "output_type": "execute_result"
    }
   ],
   "source": [
    "cot"
   ]
  },
  {
   "cell_type": "code",
   "execution_count": null,
   "id": "1bc4fe45",
   "metadata": {},
   "outputs": [],
   "source": []
  }
 ],
 "metadata": {
  "kernelspec": {
   "display_name": "Python 3 (ipykernel)",
   "language": "python",
   "name": "python3"
  },
  "language_info": {
   "codemirror_mode": {
    "name": "ipython",
    "version": 3
   },
   "file_extension": ".py",
   "mimetype": "text/x-python",
   "name": "python",
   "nbconvert_exporter": "python",
   "pygments_lexer": "ipython3",
   "version": "3.9.7"
  }
 },
 "nbformat": 4,
 "nbformat_minor": 5
}
