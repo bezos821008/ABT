{
 "cells": [
  {
   "cell_type": "code",
   "execution_count": 4,
   "id": "3e4b7c92",
   "metadata": {},
   "outputs": [],
   "source": [
    "import psycopg2\n",
    "from psycopg2.extensions import ISOLATION_LEVEL_AUTOCOMMIT\n",
    "import os\n",
    "import csv"
   ]
  },
  {
   "cell_type": "code",
   "execution_count": null,
   "id": "b7b63a97",
   "metadata": {},
   "outputs": [],
   "source": []
  },
  {
   "cell_type": "code",
   "execution_count": 18,
   "id": "9ca0db73",
   "metadata": {},
   "outputs": [],
   "source": [
    "def Table_Init(Table_Name):\n",
    "    try:\n",
    "        connection = psycopg2.connect(user=\"admin\",\n",
    "                                      password=\"123456\",\n",
    "                                      host=\"127.0.0.1\",\n",
    "                                      port=\"5432\",\n",
    "                                      database='arbitrage')\n",
    "        \n",
    "        print(connection)\n",
    "        \n",
    "        connection.set_isolation_level(ISOLATION_LEVEL_AUTOCOMMIT)\n",
    "        \n",
    "        SQL_Cursor = connection.cursor()\n",
    "        \n",
    "        SQL_CommandLine = '''\n",
    "        create table if not exists {table_name}(\n",
    "        id serial PRIMARY KEY,\n",
    "        exchange varchar(30) not null,\n",
    "        exchange_symbol_name varchar(30) not null,\n",
    "        base_quote varchar(30) not null,\n",
    "        funding_rate float not null default(0)\n",
    "        );\n",
    "        '''.format(table_name = Table_Name)\n",
    "        \n",
    "        SQL_Cursor.execute(SQL_CommandLine)\n",
    "        \n",
    "        connection.commit()\n",
    "        \n",
    "        #SQL_Cursor_fetchall = SQL_Cursor.fetchall()\n",
    "        \n",
    "        \n",
    "#         if SQL_Cursor_fetchall:\n",
    "#             print('Arbitrage_Database Already Exist')\n",
    "            \n",
    "#         if not SQL_Cursor_fetchall:\n",
    "#             connection.cursor().execute('CREATE DATABASE arbitrage')\n",
    "#             connection.commit()\n",
    "#             print('Create Arbitrage_Database Successfully')\n",
    "\n",
    "    except (Exception, Error) as error:\n",
    "        print(\"Error while connecting to PostgreSQL\", error)\n",
    "    finally:\n",
    "        if connection:\n",
    "            cursor = connection.cursor()\n",
    "            cursor.close()\n",
    "            connection.close()\n",
    "            #return(exists)"
   ]
  },
  {
   "cell_type": "code",
   "execution_count": 19,
   "id": "b0c77ec3",
   "metadata": {},
   "outputs": [
    {
     "name": "stdout",
     "output_type": "stream",
     "text": [
      "<connection object at 0x000001F01E15E260; dsn: 'user=admin password=xxx dbname=arbitrage host=127.0.0.1 port=5432', closed: 0>\n"
     ]
    }
   ],
   "source": [
    "Table_Init('Main_Even')"
   ]
  },
  {
   "cell_type": "code",
   "execution_count": 17,
   "id": "134723fc",
   "metadata": {},
   "outputs": [
    {
     "data": {
      "text/plain": [
       "'C:\\\\Users\\\\Chiang\\\\Virtual_Coin'"
      ]
     },
     "execution_count": 17,
     "metadata": {},
     "output_type": "execute_result"
    }
   ],
   "source": [
    "File_Path = os.getcwd()\n",
    "File_Path"
   ]
  },
  {
   "cell_type": "code",
   "execution_count": null,
   "id": "7492c30a",
   "metadata": {},
   "outputs": [],
   "source": []
  }
 ],
 "metadata": {
  "kernelspec": {
   "display_name": "Python 3 (ipykernel)",
   "language": "python",
   "name": "python3"
  },
  "language_info": {
   "codemirror_mode": {
    "name": "ipython",
    "version": 3
   },
   "file_extension": ".py",
   "mimetype": "text/x-python",
   "name": "python",
   "nbconvert_exporter": "python",
   "pygments_lexer": "ipython3",
   "version": "3.9.7"
  }
 },
 "nbformat": 4,
 "nbformat_minor": 5
}
