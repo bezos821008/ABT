{
 "cells": [
  {
   "cell_type": "code",
   "execution_count": 1,
   "id": "f9f38d89",
   "metadata": {},
   "outputs": [],
   "source": [
    "import psycopg2\n",
    "from psycopg2.extensions import ISOLATION_LEVEL_AUTOCOMMIT\n",
    "import os\n",
    "import csv"
   ]
  },
  {
   "cell_type": "code",
   "execution_count": 2,
   "id": "c44188d5",
   "metadata": {},
   "outputs": [],
   "source": [
    "Csv_Main_Table_Path = os.getcwd() + '\\SQL_Bin\\SQL_Table\\\\' + 'Main_Table'"
   ]
  },
  {
   "cell_type": "code",
   "execution_count": 3,
   "id": "80184033",
   "metadata": {},
   "outputs": [],
   "source": [
    "Main_Table_Insert_List = []\n",
    "if os.path.exists(Csv_Main_Table_Path) == True:\n",
    "    with open(Csv_Main_Table_Path,'r',newline='') as csv_read:\n",
    "        Csv_Data = list(csv.reader(csv_read))\n",
    "        for x in Csv_Data:\n",
    "            Main_Table_Insert_List.append(str(x)[2:-2].split('___'))\n",
    "            #print()"
   ]
  },
  {
   "cell_type": "code",
   "execution_count": 4,
   "id": "692c401b",
   "metadata": {},
   "outputs": [],
   "source": [
    "Csv_Funding_Table_Path  = os.getcwd() + '\\SQL_Bin\\SQL_Table\\\\' + 'Funding_Table'"
   ]
  },
  {
   "cell_type": "code",
   "execution_count": 5,
   "id": "625500bd",
   "metadata": {},
   "outputs": [],
   "source": [
    "Funding_Table_Insert_List = []\n",
    "if os.path.exists(Csv_Funding_Table_Path) == True:\n",
    "    with open(Csv_Funding_Table_Path,'r',newline='') as csv_read:\n",
    "        Csv_Data = list(csv.reader(csv_read))\n",
    "        for x in Csv_Data:\n",
    "            Funding_Table_Insert_List.append(str(x)[2:-2].split('___'))"
   ]
  },
  {
   "cell_type": "code",
   "execution_count": null,
   "id": "2718ff11",
   "metadata": {},
   "outputs": [],
   "source": []
  },
  {
   "cell_type": "code",
   "execution_count": 55,
   "id": "157d21f5",
   "metadata": {},
   "outputs": [],
   "source": [
    "def Table_Commit(Commit):\n",
    "    try:\n",
    "        connection = psycopg2.connect(user=\"admin\",\n",
    "                                      password=\"123456\",\n",
    "                                      host=\"127.0.0.1\",\n",
    "                                      port=\"5432\",\n",
    "                                      database='arbitrage')\n",
    "        \n",
    "        connection.set_isolation_level(ISOLATION_LEVEL_AUTOCOMMIT)\n",
    "        SQL_Cursor = connection.cursor()\n",
    "        SQL_Cursor.execute(Commit)\n",
    "        connection.commit()\n",
    "\n",
    "    except (Exception, Error) as error:\n",
    "        print(\"Error while connecting to PostgreSQL\", error)\n",
    "    finally:\n",
    "        if connection:\n",
    "            cursor = connection.cursor()\n",
    "            cursor.close()\n",
    "            connection.close()"
   ]
  },
  {
   "cell_type": "code",
   "execution_count": null,
   "id": "63092d03",
   "metadata": {},
   "outputs": [],
   "source": []
  },
  {
   "cell_type": "code",
   "execution_count": null,
   "id": "d40696de",
   "metadata": {},
   "outputs": [],
   "source": []
  },
  {
   "cell_type": "code",
   "execution_count": 51,
   "id": "cc9841ad",
   "metadata": {},
   "outputs": [],
   "source": [
    "def Clear_Table(Table_Name):\n",
    "    Command_Line_Header = '''TRUNCATE TABLE {table_name} \\n'''.format(table_name = Table_Name)\n",
    "    return(Command_Line_Header)"
   ]
  },
  {
   "cell_type": "code",
   "execution_count": null,
   "id": "aa1c075b",
   "metadata": {},
   "outputs": [],
   "source": []
  },
  {
   "cell_type": "code",
   "execution_count": 52,
   "id": "05b8dc10",
   "metadata": {},
   "outputs": [],
   "source": [
    "def Insert_Into_Values(Table_Name,Command_List):\n",
    "    \n",
    "    Command_Line_Header = '''insert into {table_name} values \\n'''.format(table_name = Table_Name)\n",
    "    \n",
    "    Values_List = \"\"\n",
    "    for i in Command_List:\n",
    "        values = '''(\\'{id}\\',\\'{exchange}\\',\\'{public_symbol}\\',\\'{private_symbol}\\',\\'{base}\\',\\'{quote}\\',\\'{type}\\'),\\n'''.format(id = i[0],exchange=i[1],public_symbol=i[2],private_symbol=i[3],base=i[4],quote=i[5],type=i[6])\n",
    "        Values_List = Values_List + values\n",
    "    Values_List = Values_List[:-2]\n",
    "    Values_List = Command_Line_Header + Values_List + ';'\n",
    "    return(Values_List)"
   ]
  },
  {
   "cell_type": "code",
   "execution_count": null,
   "id": "5b429192",
   "metadata": {},
   "outputs": [],
   "source": []
  },
  {
   "cell_type": "code",
   "execution_count": 61,
   "id": "d613927d",
   "metadata": {},
   "outputs": [],
   "source": [
    "Table_Commit(Clear_Table('main_test'))\n",
    "Table_Commit(Clear_Table('funding_test'))\n",
    "Table_Commit(Insert_Into_Values('main_test',Main_Table_Insert_List))\n",
    "Table_Commit(Insert_Into_Values('funding_test',Main_Table_Insert_List))"
   ]
  },
  {
   "cell_type": "code",
   "execution_count": 60,
   "id": "b75d30c9",
   "metadata": {},
   "outputs": [],
   "source": []
  },
  {
   "cell_type": "code",
   "execution_count": null,
   "id": "6eeb3acc",
   "metadata": {},
   "outputs": [],
   "source": []
  },
  {
   "cell_type": "code",
   "execution_count": 15,
   "id": "a16aabe0",
   "metadata": {},
   "outputs": [],
   "source": []
  },
  {
   "cell_type": "code",
   "execution_count": 20,
   "id": "11471c51",
   "metadata": {},
   "outputs": [],
   "source": []
  },
  {
   "cell_type": "code",
   "execution_count": null,
   "id": "5cfdf908",
   "metadata": {},
   "outputs": [],
   "source": []
  },
  {
   "cell_type": "code",
   "execution_count": null,
   "id": "baad4e35",
   "metadata": {},
   "outputs": [],
   "source": []
  },
  {
   "cell_type": "code",
   "execution_count": null,
   "id": "a42ac391",
   "metadata": {},
   "outputs": [],
   "source": []
  }
 ],
 "metadata": {
  "kernelspec": {
   "display_name": "Python 3 (ipykernel)",
   "language": "python",
   "name": "python3"
  },
  "language_info": {
   "codemirror_mode": {
    "name": "ipython",
    "version": 3
   },
   "file_extension": ".py",
   "mimetype": "text/x-python",
   "name": "python",
   "nbconvert_exporter": "python",
   "pygments_lexer": "ipython3",
   "version": "3.9.7"
  }
 },
 "nbformat": 4,
 "nbformat_minor": 5
}
