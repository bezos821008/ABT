{
 "cells": [
  {
   "cell_type": "code",
   "execution_count": 11,
   "id": "75c18042",
   "metadata": {},
   "outputs": [],
   "source": [
    "import ccxt\n",
    "import os\n",
    "import csv"
   ]
  },
  {
   "cell_type": "code",
   "execution_count": 2,
   "id": "be9310db",
   "metadata": {},
   "outputs": [],
   "source": [
    "exchange = ccxt.binance({\n",
    "    'enableRateLimit': True,\n",
    "})\n",
    "USD_Response  = exchange.dapiPublicGetPremiumIndex()\n",
    "USDT_Response = exchange.fapiPublicGetPremiumIndex()\n",
    "Keys_List = ['Symbol','Pair','Base','Quote','Type']"
   ]
  },
  {
   "cell_type": "code",
   "execution_count": 22,
   "id": "648bdf52",
   "metadata": {
    "scrolled": true
   },
   "outputs": [],
   "source": [
    "USD_Symbol_List  = []\n",
    "USDT_Symbol_List = [] \n",
    "\n",
    "for i in USD_Response:\n",
    "    Symbol_List = []\n",
    "    Symbol = i['symbol'].split('_')\n",
    "    if Symbol[1] == 'PERP':\n",
    "        Symbol_List.append(Symbol[0])\n",
    "        Symbol_List.append(i['symbol'])\n",
    "        Symbol_List.append(Symbol[0].replace('USD',\"\"))\n",
    "        Symbol_List.append(Symbol[0].replace(Symbol_List[2],\"\"))\n",
    "        Symbol_List.append('USD-PERP')\n",
    "        USD_Symbol_List.append(dict(zip(Keys_List, Symbol_List)))\n",
    "\n",
    "for i in USDT_Response:\n",
    "    Symbol_List = []\n",
    "    Symbol = i['symbol'].split('_')\n",
    "    Symbol_List.append(i['symbol'])\n",
    "    Symbol_List.append(i['symbol'])\n",
    "    Symbol_List.append(i['symbol'].replace('USDT',\"\"))\n",
    "    Symbol_List.append(i['symbol'].replace(Symbol_List[2],\"\"))\n",
    "    Symbol_List.append('USDT-PERP')\n",
    "    USDT_Symbol_List.append(dict(zip(Keys_List, Symbol_List)))\n",
    "        "
   ]
  },
  {
   "cell_type": "code",
   "execution_count": 131,
   "id": "489bad4a",
   "metadata": {},
   "outputs": [],
   "source": [
    "def Csv_Function(exchange_name,currency_list):\n",
    "    for i in range(len(currency_list)):\n",
    "        \n",
    "        Store_Path = os.getcwd() + '\\Csv_Bin\\\\' + currency_list[i]['Type']\n",
    "\n",
    "        if os.path.exists(Store_Path) == True:\n",
    "\n",
    "            File_Path = Store_Path + '\\\\' + currency_list[i]['Symbol'] + \"-\" + currency_list[i]['Type']\n",
    "\n",
    "            write_value = {exchange_name:currency_list[i]}\n",
    "\n",
    "            if os.path.exists(File_Path) == False:\n",
    "                with open(File_Path, 'a', newline='') as csv_write:\n",
    "                    writer = csv.writer(csv_write)\n",
    "                    for k, v in write_value.items():\n",
    "                        writer.writerow([k, v])\n",
    "            \n",
    "            if os.path.exists(File_Path) == True:\n",
    "                with open(File_Path, 'r', newline='') as csv_read:\n",
    "                    rows = dict(csv.reader(csv_read))\n",
    "\n",
    "                if exchange_name not in list(rows):\n",
    "                    with open(File_Path, 'a', newline='') as csv_write:\n",
    "                            writer = csv.writer(csv_write)\n",
    "                            for k, v in write_value.items():\n",
    "                                writer.writerow([k, v])\n"
   ]
  },
  {
   "cell_type": "code",
   "execution_count": 133,
   "id": "78237f58",
   "metadata": {
    "scrolled": true
   },
   "outputs": [],
   "source": [
    "Csv_Function('binance',USD_Symbol_List)\n",
    "Csv_Function('binance',USDT_Symbol_List)"
   ]
  },
  {
   "cell_type": "code",
   "execution_count": null,
   "id": "8f3b248f",
   "metadata": {},
   "outputs": [],
   "source": []
  },
  {
   "cell_type": "code",
   "execution_count": null,
   "id": "59689b49",
   "metadata": {},
   "outputs": [],
   "source": []
  },
  {
   "cell_type": "code",
   "execution_count": null,
   "id": "5a017a05",
   "metadata": {},
   "outputs": [],
   "source": []
  },
  {
   "cell_type": "code",
   "execution_count": null,
   "id": "6fd7fb1b",
   "metadata": {},
   "outputs": [],
   "source": []
  }
 ],
 "metadata": {
  "kernelspec": {
   "display_name": "Python 3 (ipykernel)",
   "language": "python",
   "name": "python3"
  },
  "language_info": {
   "codemirror_mode": {
    "name": "ipython",
    "version": 3
   },
   "file_extension": ".py",
   "mimetype": "text/x-python",
   "name": "python",
   "nbconvert_exporter": "python",
   "pygments_lexer": "ipython3",
   "version": "3.9.7"
  }
 },
 "nbformat": 4,
 "nbformat_minor": 5
}
