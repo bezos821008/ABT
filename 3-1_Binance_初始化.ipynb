{
 "cells": [
  {
   "cell_type": "code",
   "execution_count": 1,
   "id": "75c18042",
   "metadata": {},
   "outputs": [],
   "source": [
    "import ccxt\n",
    "import os\n",
    "import csv"
   ]
  },
  {
   "cell_type": "code",
   "execution_count": 2,
   "id": "be9310db",
   "metadata": {},
   "outputs": [],
   "source": [
    "exchange = ccxt.binance({\n",
    "    'enableRateLimit': True,\n",
    "})\n",
    "USD_Response  = exchange.dapiPublicGetPremiumIndex()\n",
    "USDT_Response = exchange.fapiPublicGetPremiumIndex()\n",
    "Keys_List = ['Symbol','Pair','Base','Quote','Type']"
   ]
  },
  {
   "cell_type": "code",
   "execution_count": 3,
   "id": "648bdf52",
   "metadata": {
    "scrolled": true
   },
   "outputs": [],
   "source": [
    "USD_Symbol_List  = []\n",
    "USDT_Symbol_List = [] \n",
    "\n",
    "for i in USD_Response:\n",
    "    Symbol_List = []\n",
    "    Symbol = i['symbol'].split('_')\n",
    "    if Symbol[1] == 'PERP':\n",
    "        Symbol_List.append(Symbol[0])\n",
    "        Symbol_List.append(i['symbol'])\n",
    "        Symbol_List.append(Symbol[0].replace('USD',\"\"))\n",
    "        Symbol_List.append(Symbol[0].replace(Symbol_List[2],\"\"))\n",
    "        Symbol_List.append('USD-PERP')\n",
    "        USD_Symbol_List.append(Symbol_List)\n",
    "\n",
    "for i in USDT_Response:\n",
    "    Symbol_List = []\n",
    "    Symbol = i['symbol'].split('_')\n",
    "    Symbol_List.append(i['symbol'])\n",
    "    Symbol_List.append(i['symbol'])\n",
    "    Symbol_List.append(i['symbol'].replace('USDT',\"\"))\n",
    "    Symbol_List.append(i['symbol'].replace(Symbol_List[2],\"\"))\n",
    "    Symbol_List.append('USDT-PERP')\n",
    "    USDT_Symbol_List.append(Symbol_List)\n",
    "\n",
    "        "
   ]
  },
  {
   "cell_type": "code",
   "execution_count": 4,
   "id": "5c2d4ce0",
   "metadata": {},
   "outputs": [
    {
     "data": {
      "text/plain": [
       "['FILUSD', 'FILUSD_PERP', 'FIL', 'USD', 'USD-PERP']"
      ]
     },
     "execution_count": 4,
     "metadata": {},
     "output_type": "execute_result"
    }
   ],
   "source": [
    "USD_Symbol_List[0]"
   ]
  },
  {
   "cell_type": "code",
   "execution_count": 5,
   "id": "8e4b13b3",
   "metadata": {},
   "outputs": [],
   "source": [
    "def Data_To_List(Currency_List,Keys_Values_List):\n",
    "    Full_List = []\n",
    "    for i in range(len(Currency_List)):\n",
    "        Def_Symbol_List = []\n",
    "        for x in range(len(Keys_Values_List)):\n",
    "            Def_Symbol_List.append( [Keys_Values_List[x],Currency_List[i][x]] )\n",
    "        Full_List.append(Def_Symbol_List)\n",
    "    return(Full_List)\n",
    "    "
   ]
  },
  {
   "cell_type": "code",
   "execution_count": null,
   "id": "fe529308",
   "metadata": {},
   "outputs": [],
   "source": []
  },
  {
   "cell_type": "code",
   "execution_count": 6,
   "id": "9e99276c",
   "metadata": {},
   "outputs": [],
   "source": [
    "USD_Data_List  = Data_To_List(USD_Symbol_List,Keys_List)\n",
    "USDT_Data_List = Data_To_List(USDT_Symbol_List,Keys_List)\n"
   ]
  },
  {
   "cell_type": "code",
   "execution_count": null,
   "id": "30066ee7",
   "metadata": {},
   "outputs": [],
   "source": []
  },
  {
   "cell_type": "code",
   "execution_count": 7,
   "id": "489bad4a",
   "metadata": {},
   "outputs": [],
   "source": [
    "def Csv_Function(exchange_name,currency_list):\n",
    "    for i in range(len(currency_list)):\n",
    "        \n",
    "        Store_Path = os.getcwd() + '\\\\' + currency_list[i][4][1]\n",
    "        if os.path.exists(Store_Path) == True:\n",
    "            \n",
    "            File_Path = Store_Path + '\\\\' + currency_list[i][0][1] + \"-\" + currency_list[i][4][1]\n",
    "            \n",
    "            write_value = exchange_name + '/' + str(currency_list[i])\n",
    "            \n",
    "            if os.path.exists(File_Path) == False:\n",
    "                with open(File_Path, 'a', newline='') as csv_write:\n",
    "                    writer = csv.writer(csv_write, delimiter=',')\n",
    "                    writer.writerow([write_value])\n",
    "                    #print(write_value)\n",
    "            \n",
    "            if os.path.exists(File_Path) == True:\n",
    "                with open(File_Path, 'r', newline='') as csv_read:\n",
    "                    rows = list(csv.reader(csv_read))\n",
    "                    if [write_value] not in rows:\n",
    "                        with open(File_Path, 'a', newline='') as csv_write:\n",
    "                                writer = csv.writer(csv_write, delimiter=',')\n",
    "                                writer.writerow([write_value])\n",
    "                                #print(write_value)\n",
    "                                #print(rows)\n"
   ]
  },
  {
   "cell_type": "code",
   "execution_count": 8,
   "id": "78237f58",
   "metadata": {
    "scrolled": true
   },
   "outputs": [],
   "source": [
    "Csv_Function('binance',USD_Data_List)\n",
    "Csv_Function('binance',USDT_Data_List)"
   ]
  },
  {
   "cell_type": "code",
   "execution_count": null,
   "id": "8f3b248f",
   "metadata": {},
   "outputs": [],
   "source": []
  },
  {
   "cell_type": "code",
   "execution_count": null,
   "id": "59689b49",
   "metadata": {},
   "outputs": [],
   "source": []
  },
  {
   "cell_type": "code",
   "execution_count": null,
   "id": "5a017a05",
   "metadata": {},
   "outputs": [],
   "source": []
  },
  {
   "cell_type": "code",
   "execution_count": null,
   "id": "6fd7fb1b",
   "metadata": {},
   "outputs": [],
   "source": []
  }
 ],
 "metadata": {
  "kernelspec": {
   "display_name": "Python 3 (ipykernel)",
   "language": "python",
   "name": "python3"
  },
  "language_info": {
   "codemirror_mode": {
    "name": "ipython",
    "version": 3
   },
   "file_extension": ".py",
   "mimetype": "text/x-python",
   "name": "python",
   "nbconvert_exporter": "python",
   "pygments_lexer": "ipython3",
   "version": "3.9.7"
  }
 },
 "nbformat": 4,
 "nbformat_minor": 5
}
