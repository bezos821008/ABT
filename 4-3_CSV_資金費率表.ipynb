{
 "cells": [
  {
   "cell_type": "code",
   "execution_count": 1,
   "id": "e0881487",
   "metadata": {},
   "outputs": [],
   "source": [
    "import os\n",
    "import csv\n",
    "from itertools import combinations"
   ]
  },
  {
   "cell_type": "code",
   "execution_count": 2,
   "id": "e3cad97a",
   "metadata": {},
   "outputs": [],
   "source": [
    "Csv_Bin_Path  = os.getcwd() + r'\\Csv_Bin'\n",
    "Bin_File_List = os.listdir(Csv_Bin_Path)\n",
    "Csv_File_Path = []\n",
    "\n",
    "for i in range(len(Bin_File_List)):\n",
    "    File_Csv_Path = Csv_Bin_Path + '\\\\' + Bin_File_List[i]\n",
    "    \n",
    "    for x in os.listdir(File_Csv_Path):\n",
    "        Csv_File_Path.append(File_Csv_Path + '\\\\' + x)"
   ]
  },
  {
   "cell_type": "code",
   "execution_count": 3,
   "id": "aa513d8a",
   "metadata": {},
   "outputs": [],
   "source": [
    "Tidy_Table   = []\n",
    "Main_Table_Keys_List = ['Mix_PK',\n",
    "                        'Exchange_A','Exchange_B',\n",
    "                        'Symbol',\n",
    "                        'Funding_Rate_A','Funding_Rate_B',\n",
    "                        'AB_Div','Abs_AB_Div']\n",
    "\n",
    "for i in Csv_File_Path:\n",
    "    with open(i,'r',newline='') as csv_read:\n",
    "        \n",
    "        Exchange_Symbol = []\n",
    "        Csv_Data = list(csv.reader(csv_read))\n",
    "        for x in range(len(Csv_Data)):\n",
    "            x_list = []\n",
    "            x_split = str(Csv_Data[x])[2:-2].split('___')\n",
    "            x_list.append(x_split[0])\n",
    "            x_list.append(x_split[1])\n",
    "            x_list.append(x_split[2])\n",
    "            Exchange_Symbol.append(x_list)\n",
    "            #print(x_split)\n",
    "        #print(Exchange_Symbol)\n",
    "        Exchange_Symbol_Combinations = list(combinations(Exchange_Symbol, 2))\n",
    "\n",
    "        #print(Exchange_Symbol_Combinations)\n",
    "        for i in Exchange_Symbol_Combinations:\n",
    "            Tidy_Table.append(i)\n",
    "        #print()\n",
    "        #print(\"\")"
   ]
  },
  {
   "cell_type": "code",
   "execution_count": null,
   "id": "8a55e0da",
   "metadata": {},
   "outputs": [],
   "source": []
  },
  {
   "cell_type": "code",
   "execution_count": null,
   "id": "8834ed14",
   "metadata": {},
   "outputs": [],
   "source": []
  },
  {
   "cell_type": "code",
   "execution_count": 52,
   "id": "119eba6f",
   "metadata": {},
   "outputs": [],
   "source": [
    "Funding_SQL_Table = []\n",
    "for i in Tidy_Table:\n",
    "    Loop_String = \"\"\n",
    "    Loop_String = Loop_String + str(i[0][0]+'***'+i[1][0]+\"___\")\n",
    "    Loop_String = Loop_String + str(i[0][1]+\"___\")\n",
    "    Loop_String = Loop_String + str(i[1][1]+\"___\")\n",
    "    Loop_String = Loop_String + str(i[0][2])\n",
    "    #print(Loop_String)\n",
    "    Funding_SQL_Table.append(Loop_String)"
   ]
  },
  {
   "cell_type": "code",
   "execution_count": null,
   "id": "2c78a78d",
   "metadata": {},
   "outputs": [],
   "source": []
  },
  {
   "cell_type": "code",
   "execution_count": 49,
   "id": "c4dbbd72",
   "metadata": {},
   "outputs": [],
   "source": [
    "Csv_Funding_Table_Path = os.getcwd() + '\\SQL_Bin\\SQL_Table\\\\' + 'Funding_Table'"
   ]
  },
  {
   "cell_type": "code",
   "execution_count": 50,
   "id": "8baee31c",
   "metadata": {},
   "outputs": [
    {
     "data": {
      "text/plain": [
       "'C:\\\\Users\\\\Chiang\\\\Virtual_Coin\\\\SQL_Bin\\\\SQL_Table\\\\Funding_Table'"
      ]
     },
     "execution_count": 50,
     "metadata": {},
     "output_type": "execute_result"
    }
   ],
   "source": [
    "Csv_Funding_Table_Path"
   ]
  },
  {
   "cell_type": "code",
   "execution_count": 51,
   "id": "615ad56a",
   "metadata": {},
   "outputs": [],
   "source": [
    "if os.path.exists(Csv_Funding_Table_Path) == False:\n",
    "    with open(Csv_Funding_Table_Path, 'a', newline='') as csv_write:\n",
    "        writer = csv.writer(csv_write)\n",
    "        for i in Funding_SQL_Table:\n",
    "            writer.writerow([i])"
   ]
  },
  {
   "cell_type": "code",
   "execution_count": null,
   "id": "a40b571b",
   "metadata": {},
   "outputs": [],
   "source": []
  }
 ],
 "metadata": {
  "kernelspec": {
   "display_name": "Python 3 (ipykernel)",
   "language": "python",
   "name": "python3"
  },
  "language_info": {
   "codemirror_mode": {
    "name": "ipython",
    "version": 3
   },
   "file_extension": ".py",
   "mimetype": "text/x-python",
   "name": "python",
   "nbconvert_exporter": "python",
   "pygments_lexer": "ipython3",
   "version": "3.9.7"
  }
 },
 "nbformat": 4,
 "nbformat_minor": 5
}
