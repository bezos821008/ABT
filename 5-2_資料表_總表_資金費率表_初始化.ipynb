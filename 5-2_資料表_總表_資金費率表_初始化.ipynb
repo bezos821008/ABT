{
 "cells": [
  {
   "cell_type": "code",
   "execution_count": 1,
   "id": "3e4b7c92",
   "metadata": {},
   "outputs": [],
   "source": [
    "import psycopg2\n",
    "from psycopg2.extensions import ISOLATION_LEVEL_AUTOCOMMIT\n",
    "import os\n",
    "import csv"
   ]
  },
  {
   "cell_type": "code",
   "execution_count": null,
   "id": "b7b63a97",
   "metadata": {},
   "outputs": [],
   "source": []
  },
  {
   "cell_type": "code",
   "execution_count": 2,
   "id": "9ca0db73",
   "metadata": {},
   "outputs": [],
   "source": [
    "def Table_Init(Commit):\n",
    "    try:\n",
    "        connection = psycopg2.connect(user=\"admin\",\n",
    "                                      password=\"123456\",\n",
    "                                      host=\"127.0.0.1\",\n",
    "                                      port=\"5432\",\n",
    "                                      database='arbitrage')\n",
    "        \n",
    "        connection.set_isolation_level(ISOLATION_LEVEL_AUTOCOMMIT)\n",
    "        SQL_Cursor = connection.cursor()\n",
    "        SQL_Cursor.execute(Commit)\n",
    "        connection.commit()\n",
    "\n",
    "    except (Exception, Error) as error:\n",
    "        print(\"Error while connecting to PostgreSQL\", error)\n",
    "    finally:\n",
    "        if connection:\n",
    "            cursor = connection.cursor()\n",
    "            cursor.close()\n",
    "            connection.close()"
   ]
  },
  {
   "cell_type": "code",
   "execution_count": 3,
   "id": "b0c77ec3",
   "metadata": {},
   "outputs": [],
   "source": [
    "Main_Even_Command = '''\n",
    "create table if not exists {table_name}(\n",
    "id varchar(50),\n",
    "exchange varchar(20) not null,\n",
    "public_symbol varchar(20) not null,\n",
    "private_symbol varchar(20) not null,\n",
    "base varchar(20) not null,\n",
    "quote varchar(20) not null,\n",
    "type varchar(20) not null,\n",
    "funding_rate float not null default(0)\n",
    ");\n",
    "'''.format(table_name = 'Main_Even')"
   ]
  },
  {
   "cell_type": "code",
   "execution_count": 4,
   "id": "134723fc",
   "metadata": {},
   "outputs": [],
   "source": [
    "Main_Odd_Command = '''\n",
    "create table if not exists {table_name}(\n",
    "id varchar(50),\n",
    "exchange varchar(20) not null,\n",
    "public_symbol varchar(20) not null,\n",
    "private_symbol varchar(20) not null,\n",
    "base varchar(20) not null,\n",
    "quote varchar(20) not null,\n",
    "type varchar(20) not null,\n",
    "funding_rate float not null default(0)\n",
    ");\n",
    "'''.format(table_name = 'Main_Odd')"
   ]
  },
  {
   "cell_type": "code",
   "execution_count": 5,
   "id": "7492c30a",
   "metadata": {},
   "outputs": [],
   "source": [
    "#Table_Init(Main_Even_Command)\n",
    "#Table_Init(Main_Odd_Command)"
   ]
  },
  {
   "cell_type": "code",
   "execution_count": null,
   "id": "f3112a75",
   "metadata": {},
   "outputs": [],
   "source": []
  },
  {
   "cell_type": "code",
   "execution_count": null,
   "id": "94073b72",
   "metadata": {},
   "outputs": [],
   "source": []
  },
  {
   "cell_type": "code",
   "execution_count": null,
   "id": "413bc6e0",
   "metadata": {},
   "outputs": [],
   "source": []
  },
  {
   "cell_type": "code",
   "execution_count": 6,
   "id": "8759001f",
   "metadata": {},
   "outputs": [],
   "source": [
    "Funding_Even_Command = '''\n",
    "create table if not exists {table_name}(\n",
    "\n",
    "id varchar(50),\n",
    "\n",
    "exchange_1 varchar(20) not null,\n",
    "private_1 varchar(20) not null,\n",
    "exchange_2 varchar(20) not null,\n",
    "private_2 varchar(20) not null,\n",
    "\n",
    "public_symbol varchar(20) not null,\n",
    "type varchar(20) not null,\n",
    "\n",
    "funding_rate_1 float not null default(0),\n",
    "funding_rate_2 float not null default(0),\n",
    "funding_rate_div float not null default(0),\n",
    "funding_rate_div_abs float not null default(0)\n",
    "\n",
    ");\n",
    "'''.format(table_name = 'Funding_Even')"
   ]
  },
  {
   "cell_type": "code",
   "execution_count": 7,
   "id": "4b0b147c",
   "metadata": {},
   "outputs": [],
   "source": [
    "Funding_Odd_Command = '''\n",
    "create table if not exists {table_name}(\n",
    "\n",
    "id varchar(50),\n",
    "\n",
    "exchange_1 varchar(20) not null,\n",
    "private_1 varchar(20) not null,\n",
    "exchange_2 varchar(20) not null,\n",
    "private_2 varchar(20) not null,\n",
    "\n",
    "public_symbol varchar(20) not null,\n",
    "type varchar(20) not null,\n",
    "\n",
    "funding_rate_1 float not null default(0),\n",
    "funding_rate_2 float not null default(0),\n",
    "funding_rate_div float not null default(0),\n",
    "funding_rate_div_abs float not null default(0)\n",
    "\n",
    ");\n",
    "'''.format(table_name = 'Funding_Odd')"
   ]
  },
  {
   "cell_type": "code",
   "execution_count": 8,
   "id": "c9b79aa2",
   "metadata": {},
   "outputs": [],
   "source": [
    "#Table_Init(Funding_Even_Command)\n",
    "#Table_Init(Funding_Odd_Command)"
   ]
  },
  {
   "cell_type": "code",
   "execution_count": null,
   "id": "b8dd4ce7",
   "metadata": {},
   "outputs": [],
   "source": []
  },
  {
   "cell_type": "code",
   "execution_count": null,
   "id": "f60b902e",
   "metadata": {},
   "outputs": [],
   "source": []
  },
  {
   "cell_type": "code",
   "execution_count": null,
   "id": "ff896687",
   "metadata": {},
   "outputs": [],
   "source": []
  },
  {
   "cell_type": "code",
   "execution_count": null,
   "id": "b463c716",
   "metadata": {},
   "outputs": [],
   "source": []
  },
  {
   "cell_type": "code",
   "execution_count": null,
   "id": "d62b2352",
   "metadata": {},
   "outputs": [],
   "source": []
  },
  {
   "cell_type": "code",
   "execution_count": null,
   "id": "ca987a75",
   "metadata": {},
   "outputs": [],
   "source": []
  },
  {
   "cell_type": "code",
   "execution_count": 18,
   "id": "f06eafeb",
   "metadata": {},
   "outputs": [],
   "source": [
    "Main_Test = '''\n",
    "create table if not exists {table_name}(\n",
    "id varchar(50) PRIMARY KEY,\n",
    "exchange varchar(20) not null,\n",
    "public_symbol varchar(20) not null,\n",
    "private_symbol varchar(20) not null,\n",
    "base varchar(20) not null,\n",
    "quote varchar(20) not null,\n",
    "type varchar(20) not null,\n",
    "funding_rate float not null default(0)\n",
    ");\n",
    "'''.format(table_name = 'Main_Test')"
   ]
  },
  {
   "cell_type": "code",
   "execution_count": 19,
   "id": "22228037",
   "metadata": {},
   "outputs": [],
   "source": [
    "Funding_Test = '''\n",
    "create table if not exists {table_name}(\n",
    "\n",
    "id varchar(50) PRIMARY KEY,\n",
    "\n",
    "exchange_1 varchar(20) not null,\n",
    "private_1 varchar(20) not null,\n",
    "exchange_2 varchar(20) not null,\n",
    "private_2 varchar(20) not null,\n",
    "\n",
    "public_symbol varchar(20) not null,\n",
    "type varchar(20) not null,\n",
    "\n",
    "funding_rate_1 float not null default(0),\n",
    "funding_rate_2 float not null default(0),\n",
    "funding_rate_div float not null default(0),\n",
    "funding_rate_div_abs float not null default(0)\n",
    "\n",
    ");\n",
    "'''.format(table_name = 'Funding_Test')"
   ]
  },
  {
   "cell_type": "code",
   "execution_count": 22,
   "id": "f1b845e5",
   "metadata": {},
   "outputs": [],
   "source": [
    "Table_Init(Main_Test)\n",
    "Table_Init(Funding_Test)"
   ]
  },
  {
   "cell_type": "code",
   "execution_count": null,
   "id": "272f9651",
   "metadata": {},
   "outputs": [],
   "source": []
  }
 ],
 "metadata": {
  "kernelspec": {
   "display_name": "Python 3 (ipykernel)",
   "language": "python",
   "name": "python3"
  },
  "language_info": {
   "codemirror_mode": {
    "name": "ipython",
    "version": 3
   },
   "file_extension": ".py",
   "mimetype": "text/x-python",
   "name": "python",
   "nbconvert_exporter": "python",
   "pygments_lexer": "ipython3",
   "version": "3.9.7"
  }
 },
 "nbformat": 4,
 "nbformat_minor": 5
}
